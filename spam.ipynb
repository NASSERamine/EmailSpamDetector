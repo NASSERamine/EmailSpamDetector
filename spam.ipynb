{
 "cells": [
  {
   "cell_type": "code",
   "execution_count": 107,
   "metadata": {},
   "outputs": [],
   "source": [
    "import pandas as pd\n",
    "from sklearn.model_selection import train_test_split\n",
    "from sklearn.feature_extraction.text import CountVectorizer\n",
    "from sklearn.naive_bayes import MultinomialNB\n",
    "from sklearn.metrics import classification_report\n",
    "from sklearn.pipeline import Pipeline\n",
    "import spacy\n",
    "import matplotlib.pyplot as plt\n",
    "from spacy.lang.en.stop_words import STOP_WORDS"
   ]
  },
  {
   "cell_type": "code",
   "execution_count": 82,
   "metadata": {},
   "outputs": [
    {
     "data": {
      "text/html": [
       "<div>\n",
       "<style scoped>\n",
       "    .dataframe tbody tr th:only-of-type {\n",
       "        vertical-align: middle;\n",
       "    }\n",
       "\n",
       "    .dataframe tbody tr th {\n",
       "        vertical-align: top;\n",
       "    }\n",
       "\n",
       "    .dataframe thead th {\n",
       "        text-align: right;\n",
       "    }\n",
       "</style>\n",
       "<table border=\"1\" class=\"dataframe\">\n",
       "  <thead>\n",
       "    <tr style=\"text-align: right;\">\n",
       "      <th></th>\n",
       "      <th>Unnamed: 0</th>\n",
       "      <th>label</th>\n",
       "      <th>text</th>\n",
       "      <th>label_num</th>\n",
       "    </tr>\n",
       "  </thead>\n",
       "  <tbody>\n",
       "    <tr>\n",
       "      <th>0</th>\n",
       "      <td>605</td>\n",
       "      <td>ham</td>\n",
       "      <td>Subject: enron methanol ; meter # : 988291\\nthis is a follow up to the note i gave you on monday , 4 / 3 / 00 { preliminary\\nflow data provided by daren } .\\nplease override pop ' s daily volume { presently zero } to reflect daily\\nactivity you can obtain from gas control .\\nthis change is needed asap for economics purposes .</td>\n",
       "      <td>0</td>\n",
       "    </tr>\n",
       "    <tr>\n",
       "      <th>1</th>\n",
       "      <td>2349</td>\n",
       "      <td>ham</td>\n",
       "      <td>Subject: hpl nom for january 9 , 2001\\n( see attached file : hplnol 09 . xls )\\n- hplnol 09 . xls</td>\n",
       "      <td>0</td>\n",
       "    </tr>\n",
       "    <tr>\n",
       "      <th>2</th>\n",
       "      <td>3624</td>\n",
       "      <td>ham</td>\n",
       "      <td>Subject: neon retreat\\nho ho ho , we ' re around to that most wonderful time of the year - - - neon leaders retreat time !\\ni know that this time of year is extremely hectic , and that it ' s tough to think about anything past the holidays , but life does go on past the week of december 25 through january 1 , and that ' s what i ' d like you to think about for a minute .\\non the calender that i handed out at the beginning of the fall semester , the retreat was scheduled for the weekend of january 5 - 6 . but because of a youth ministers conference that brad and dustin are connected with that week , we ' re going to change the date to the following weekend , january 12 - 13 . now comes the part you need to think about .\\ni think we all agree that it ' s important for us to get together and have some time to recharge our batteries before we get to far into the spring semester , but it can be a lot of trouble and difficult for us to get away without kids , etc . so , brad came up with a potential alternative for how we can get together on that weekend , and then you can let me know which you prefer .\\nthe first option would be to have a retreat similar to what we ' ve done the past several years . this year we could go to the heartland country inn ( www . . com ) outside of brenham . it ' s a nice place , where we ' d have a 13 - bedroom and a 5 - bedroom house side by side . it ' s in the country , real relaxing , but also close to brenham and only about one hour and 15 minutes from here . we can golf , shop in the antique and craft stores in brenham , eat dinner together at the ranch , and spend time with each other . we ' d meet on saturday , and then return on sunday morning , just like what we ' ve done in the past .\\nthe second option would be to stay here in houston , have dinner together at a nice restaurant , and then have dessert and a time for visiting and recharging at one of our homes on that saturday evening . this might be easier , but the trade off would be that we wouldn ' t have as much time together . i ' ll let you decide .\\nemail me back with what would be your preference , and of course if you ' re available on that weekend . the democratic process will prevail - - majority vote will rule ! let me hear from you as soon as possible , preferably by the end of the weekend . and if the vote doesn ' t go your way , no complaining allowed ( like i tend to do ! )\\nhave a great weekend , great golf , great fishing , great shopping , or whatever makes you happy !\\nbobby</td>\n",
       "      <td>0</td>\n",
       "    </tr>\n",
       "    <tr>\n",
       "      <th>3</th>\n",
       "      <td>4685</td>\n",
       "      <td>spam</td>\n",
       "      <td>Subject: photoshop , windows , office . cheap . main trending\\nabasements darer prudently fortuitous undergone\\nlighthearted charm orinoco taster\\nrailroad affluent pornographic cuvier\\nirvin parkhouse blameworthy chlorophyll\\nrobed diagrammatic fogarty clears bayda\\ninconveniencing managing represented smartness hashish\\nacademies shareholders unload badness\\ndanielson pure caffein\\nspaniard chargeable levin\\n</td>\n",
       "      <td>1</td>\n",
       "    </tr>\n",
       "    <tr>\n",
       "      <th>4</th>\n",
       "      <td>2030</td>\n",
       "      <td>ham</td>\n",
       "      <td>Subject: re : indian springs\\nthis deal is to book the teco pvr revenue . it is my understanding that teco\\njust sends us a check , i haven ' t received an answer as to whether there is a\\npredermined price associated with this deal or if teco just lets us know what\\nwe are giving . i can continue to chase this deal down if you need .</td>\n",
       "      <td>0</td>\n",
       "    </tr>\n",
       "    <tr>\n",
       "      <th>...</th>\n",
       "      <td>...</td>\n",
       "      <td>...</td>\n",
       "      <td>...</td>\n",
       "      <td>...</td>\n",
       "    </tr>\n",
       "    <tr>\n",
       "      <th>5166</th>\n",
       "      <td>1518</td>\n",
       "      <td>ham</td>\n",
       "      <td>Subject: put the 10 on the ft\\nthe transport volumes decreased from 25000 to 10000 . all 10000 should be on\\ncontract 012 - 41991 - 203 .\\nthanks ,\\nami\\n- - - - - - - - - - - - - - - - - - - - - - forwarded by ami chokshi / corp / enron on 08 / 31 / 2000\\n10 : 54 am - - - - - - - - - - - - - - - - - - - - - - - - - - -\\nroyal _ b _ edmondson @ reliantenergy . com on 08 / 31 / 2000 10 : 47 : 37 am\\nto : ami _ chokshi @ enron . com\\ncc :\\nsubject : put the 10 on the ft\\n( see attached file : hpl - sept . xls )\\n- hpl - sept . xls</td>\n",
       "      <td>0</td>\n",
       "    </tr>\n",
       "    <tr>\n",
       "      <th>5167</th>\n",
       "      <td>404</td>\n",
       "      <td>ham</td>\n",
       "      <td>Subject: 3 / 4 / 2000 and following noms\\nhpl can ' t take the extra 15 mmcf / d over the weekend . we ' ll try next week ,\\nbut for now the nom will stay at 60 mmcf / d , with redeliveries as they have\\nbeen\\n-\\n50 into pg &amp; e , 7 from fcv , and 3 at carthage .\\n- - - - - - - - - - - - - - - - - - - - - - forwarded by bruce mcmills / ftworth / pefs / pec on\\n03 / 03 / 2000\\n09 : 42 am - - - - - - - - - - - - - - - - - - - - - - - - - - -\\nbruce mcmills\\n03 / 03 / 2000 09 : 10 am\\nto : dfarmer @ enron . com , briley @ enron . com , stacey . neuweiler @ enron . com\\ncc : chad w . cass / gcs / cec / pec @ pec , william e . speckels / gcs / cec / pec @ pec , donna\\nc . spencer / gcs / cec / pec @ pec , michael r . cherry / easttexas / pefs / pec @ pec ,\\ndarrel f . bane / easttexas / pefs / pec @ pec\\nsubject : 3 / 4 / 2000 and following noms\\nthis is to nominate 75 , 000 mmbtu / d into eastrans for 3 / 4 / 2000 and following .\\nwe will deliver 50 , 000 into pg &amp; e , 7 , 000 from fuel cotton valley ( continue\\n750\\nmmbtu / d sale ) ,\\nand 18 , 000 mmbtu / d into your cartwheel agreement at carthage .</td>\n",
       "      <td>0</td>\n",
       "    </tr>\n",
       "    <tr>\n",
       "      <th>5168</th>\n",
       "      <td>2933</td>\n",
       "      <td>ham</td>\n",
       "      <td>Subject: calpine daily gas nomination\\n&gt;\\n&gt;\\njulie , as i mention earlier we hope to start the unit this afternoon but\\nare still experiencing difficulties . i will keep you informed . thanks .\\nricky a . archer\\nfuel supply\\n700 louisiana , suite 2700\\nhouston , texas 77002\\n713 - 830 - 8659 direct\\n713 - 830 - 8722 fax\\n- calpine daily gas nomination 1 . doc\\n- calpine daily gas nomination 1 . doc</td>\n",
       "      <td>0</td>\n",
       "    </tr>\n",
       "    <tr>\n",
       "      <th>5169</th>\n",
       "      <td>1409</td>\n",
       "      <td>ham</td>\n",
       "      <td>Subject: industrial worksheets for august 2000 activity\\nattached are the worksheets for august 2000 activity . there are three\\ndifferent worksheets { 2 - supply &amp; 1 - market } .\\nthe market worksheet is preliminary and will continuously be updated\\nthroughout the month .\\nthe supply worksheets capture all \" buybacks and the relevant pricing data .\\nthese three worksheets can be found in two separate files . o :\\nlogistics / robert lloyd / buydeaug 2000 . xls . . . . . . . . . . . . . supply\\no : logistics / ken\\nsorry for the delay in providing you ' ll this data .</td>\n",
       "      <td>0</td>\n",
       "    </tr>\n",
       "    <tr>\n",
       "      <th>5170</th>\n",
       "      <td>4807</td>\n",
       "      <td>spam</td>\n",
       "      <td>Subject: important online banking alert\\ndear valued citizensr bank member ,\\ndue to concerns , for the safety and integrity of the online banking community we have issued the following warning message .\\nit has come to our attention that your citizensr bank account information needs to be updated as part of our continuing commitment to protect your account and to reduce the instance of fraud on our website . if you could please take 5 - 10 minutes out of your online experience and renew your records you will not run into any future problems with the online service . however , failure to confirm your records may result in your account suspension .\\nonce you have confirmed your account records your internet banking service will not be interrupted and will continue as normal .\\nto confirm your bank account records please click here .\\nnote :\\nthis e - mail was sent on behalf of the online banking community , if you do not have an online banking account with charterr one then this message does not apply to you and you may ignore this message .\\nthank you for your time ,\\ncitizensr financial group .\\n</td>\n",
       "      <td>1</td>\n",
       "    </tr>\n",
       "  </tbody>\n",
       "</table>\n",
       "<p>5171 rows × 4 columns</p>\n",
       "</div>"
      ],
      "text/plain": [
       "      Unnamed: 0 label  \\\n",
       "0            605   ham   \n",
       "1           2349   ham   \n",
       "2           3624   ham   \n",
       "3           4685  spam   \n",
       "4           2030   ham   \n",
       "...          ...   ...   \n",
       "5166        1518   ham   \n",
       "5167         404   ham   \n",
       "5168        2933   ham   \n",
       "5169        1409   ham   \n",
       "5170        4807  spam   \n",
       "\n",
       "                                                                                                                                                                                                                                                                                                                                                                                                                                                                                                                                                                                                                                                                                                                                                                                                                                                                                                                                                                                                                                                                                                                                                                                                                                                                                                                                                                                                                                                                                                                                                                                                                                                                                                                                                                                                                                                                                                                                                                                                                                                                                                                                                                                                                                                                                                                                                                                                                                                                                                                                                                                                                              text  \\\n",
       "0                                                                                                                                                                                                                                                                                                                                                                                                                                                                                                                                                                                                                                                                                                                                                                                                                                                                                                                                                                                                                                                                                                                                                                                                                                                                                                                                                                                                                                                                                                                                                                                                                                                                                                                                                                                                                                                                                                                                                                                                                                                                                                                                                                                                                                                                                          Subject: enron methanol ; meter # : 988291\\nthis is a follow up to the note i gave you on monday , 4 / 3 / 00 { preliminary\\nflow data provided by daren } .\\nplease override pop ' s daily volume { presently zero } to reflect daily\\nactivity you can obtain from gas control .\\nthis change is needed asap for economics purposes .   \n",
       "1                                                                                                                                                                                                                                                                                                                                                                                                                                                                                                                                                                                                                                                                                                                                                                                                                                                                                                                                                                                                                                                                                                                                                                                                                                                                                                                                                                                                                                                                                                                                                                                                                                                                                                                                                                                                                                                                                                                                                                                                                                                                                                                                                                                                                                                                                                                                                                                                                                                                                                                                Subject: hpl nom for january 9 , 2001\\n( see attached file : hplnol 09 . xls )\\n- hplnol 09 . xls   \n",
       "2     Subject: neon retreat\\nho ho ho , we ' re around to that most wonderful time of the year - - - neon leaders retreat time !\\ni know that this time of year is extremely hectic , and that it ' s tough to think about anything past the holidays , but life does go on past the week of december 25 through january 1 , and that ' s what i ' d like you to think about for a minute .\\non the calender that i handed out at the beginning of the fall semester , the retreat was scheduled for the weekend of january 5 - 6 . but because of a youth ministers conference that brad and dustin are connected with that week , we ' re going to change the date to the following weekend , january 12 - 13 . now comes the part you need to think about .\\ni think we all agree that it ' s important for us to get together and have some time to recharge our batteries before we get to far into the spring semester , but it can be a lot of trouble and difficult for us to get away without kids , etc . so , brad came up with a potential alternative for how we can get together on that weekend , and then you can let me know which you prefer .\\nthe first option would be to have a retreat similar to what we ' ve done the past several years . this year we could go to the heartland country inn ( www . . com ) outside of brenham . it ' s a nice place , where we ' d have a 13 - bedroom and a 5 - bedroom house side by side . it ' s in the country , real relaxing , but also close to brenham and only about one hour and 15 minutes from here . we can golf , shop in the antique and craft stores in brenham , eat dinner together at the ranch , and spend time with each other . we ' d meet on saturday , and then return on sunday morning , just like what we ' ve done in the past .\\nthe second option would be to stay here in houston , have dinner together at a nice restaurant , and then have dessert and a time for visiting and recharging at one of our homes on that saturday evening . this might be easier , but the trade off would be that we wouldn ' t have as much time together . i ' ll let you decide .\\nemail me back with what would be your preference , and of course if you ' re available on that weekend . the democratic process will prevail - - majority vote will rule ! let me hear from you as soon as possible , preferably by the end of the weekend . and if the vote doesn ' t go your way , no complaining allowed ( like i tend to do ! )\\nhave a great weekend , great golf , great fishing , great shopping , or whatever makes you happy !\\nbobby   \n",
       "3                                                                                                                                                                                                                                                                                                                                                                                                                                                                                                                                                                                                                                                                                                                                                                                                                                                                                                                                                                                                                                                                                                                                                                                                                                                                                                                                                                                                                                                                                                                                                                                                                                                                                                                                                                                                                                                                                                                                                                                                                                                                                                                                                                                                   Subject: photoshop , windows , office . cheap . main trending\\nabasements darer prudently fortuitous undergone\\nlighthearted charm orinoco taster\\nrailroad affluent pornographic cuvier\\nirvin parkhouse blameworthy chlorophyll\\nrobed diagrammatic fogarty clears bayda\\ninconveniencing managing represented smartness hashish\\nacademies shareholders unload badness\\ndanielson pure caffein\\nspaniard chargeable levin\\n   \n",
       "4                                                                                                                                                                                                                                                                                                                                                                                                                                                                                                                                                                                                                                                                                                                                                                                                                                                                                                                                                                                                                                                                                                                                                                                                                                                                                                                                                                                                                                                                                                                                                                                                                                                                                                                                                                                                                                                                                                                                                                                                                                                                                                                                                                                                                                                                                 Subject: re : indian springs\\nthis deal is to book the teco pvr revenue . it is my understanding that teco\\njust sends us a check , i haven ' t received an answer as to whether there is a\\npredermined price associated with this deal or if teco just lets us know what\\nwe are giving . i can continue to chase this deal down if you need .   \n",
       "...                                                                                                                                                                                                                                                                                                                                                                                                                                                                                                                                                                                                                                                                                                                                                                                                                                                                                                                                                                                                                                                                                                                                                                                                                                                                                                                                                                                                                                                                                                                                                                                                                                                                                                                                                                                                                                                                                                                                                                                                                                                                                                                                                                                                                                                                                                                                                                                                                                                                                                                                                                                                                            ...   \n",
       "5166                                                                                                                                                                                                                                                                                                                                                                                                                                                                                                                                                                                                                                                                                                                                                                                                                                                                                                                                                                                                                                                                                                                                                                                                                                                                                                                                                                                                                                                                                                                                                                                                                                                                                                                                                                                                                                                                                                                                                                                                                                                                        Subject: put the 10 on the ft\\nthe transport volumes decreased from 25000 to 10000 . all 10000 should be on\\ncontract 012 - 41991 - 203 .\\nthanks ,\\nami\\n- - - - - - - - - - - - - - - - - - - - - - forwarded by ami chokshi / corp / enron on 08 / 31 / 2000\\n10 : 54 am - - - - - - - - - - - - - - - - - - - - - - - - - - -\\nroyal _ b _ edmondson @ reliantenergy . com on 08 / 31 / 2000 10 : 47 : 37 am\\nto : ami _ chokshi @ enron . com\\ncc :\\nsubject : put the 10 on the ft\\n( see attached file : hpl - sept . xls )\\n- hpl - sept . xls   \n",
       "5167                                                                                                                                                                                                                                                                                                                                                                                                                                                                                                                                                                                                                                                                                                                                                                                                                                                                                                                                                                                                                                                                                                                                                                                                                                                                                                                                                                                                                                                                    Subject: 3 / 4 / 2000 and following noms\\nhpl can ' t take the extra 15 mmcf / d over the weekend . we ' ll try next week ,\\nbut for now the nom will stay at 60 mmcf / d , with redeliveries as they have\\nbeen\\n-\\n50 into pg & e , 7 from fcv , and 3 at carthage .\\n- - - - - - - - - - - - - - - - - - - - - - forwarded by bruce mcmills / ftworth / pefs / pec on\\n03 / 03 / 2000\\n09 : 42 am - - - - - - - - - - - - - - - - - - - - - - - - - - -\\nbruce mcmills\\n03 / 03 / 2000 09 : 10 am\\nto : dfarmer @ enron . com , briley @ enron . com , stacey . neuweiler @ enron . com\\ncc : chad w . cass / gcs / cec / pec @ pec , william e . speckels / gcs / cec / pec @ pec , donna\\nc . spencer / gcs / cec / pec @ pec , michael r . cherry / easttexas / pefs / pec @ pec ,\\ndarrel f . bane / easttexas / pefs / pec @ pec\\nsubject : 3 / 4 / 2000 and following noms\\nthis is to nominate 75 , 000 mmbtu / d into eastrans for 3 / 4 / 2000 and following .\\nwe will deliver 50 , 000 into pg & e , 7 , 000 from fuel cotton valley ( continue\\n750\\nmmbtu / d sale ) ,\\nand 18 , 000 mmbtu / d into your cartwheel agreement at carthage .   \n",
       "5168                                                                                                                                                                                                                                                                                                                                                                                                                                                                                                                                                                                                                                                                                                                                                                                                                                                                                                                                                                                                                                                                                                                                                                                                                                                                                                                                                                                                                                                                                                                                                                                                                                                                                                                                                                                                                                                                                                                                                                                                                                                                                                                                                                                                            Subject: calpine daily gas nomination\\n>\\n>\\njulie , as i mention earlier we hope to start the unit this afternoon but\\nare still experiencing difficulties . i will keep you informed . thanks .\\nricky a . archer\\nfuel supply\\n700 louisiana , suite 2700\\nhouston , texas 77002\\n713 - 830 - 8659 direct\\n713 - 830 - 8722 fax\\n- calpine daily gas nomination 1 . doc\\n- calpine daily gas nomination 1 . doc   \n",
       "5169                                                                                                                                                                                                                                                                                                                                                                                                                                                                                                                                                                                                                                                                                                                                                                                                                                                                                                                                                                                                                                                                                                                                                                                                                                                                                                                                                                                                                                                                                                                                                                                                                                                                                                                                                                                                                                                                                                                                                                                                                                 Subject: industrial worksheets for august 2000 activity\\nattached are the worksheets for august 2000 activity . there are three\\ndifferent worksheets { 2 - supply & 1 - market } .\\nthe market worksheet is preliminary and will continuously be updated\\nthroughout the month .\\nthe supply worksheets capture all \" buybacks and the relevant pricing data .\\nthese three worksheets can be found in two separate files . o :\\nlogistics / robert lloyd / buydeaug 2000 . xls . . . . . . . . . . . . . supply\\no : logistics / ken\\nsorry for the delay in providing you ' ll this data .   \n",
       "5170                                                                                                                                                                                                                                                                                                                                                                                                                                                                                                                                                                                                                                                                                                                                                                                                                                                                                                                                                                                                                                                                                                                                                                                                                                                                                                                                                                                                                                                                    Subject: important online banking alert\\ndear valued citizensr bank member ,\\ndue to concerns , for the safety and integrity of the online banking community we have issued the following warning message .\\nit has come to our attention that your citizensr bank account information needs to be updated as part of our continuing commitment to protect your account and to reduce the instance of fraud on our website . if you could please take 5 - 10 minutes out of your online experience and renew your records you will not run into any future problems with the online service . however , failure to confirm your records may result in your account suspension .\\nonce you have confirmed your account records your internet banking service will not be interrupted and will continue as normal .\\nto confirm your bank account records please click here .\\nnote :\\nthis e - mail was sent on behalf of the online banking community , if you do not have an online banking account with charterr one then this message does not apply to you and you may ignore this message .\\nthank you for your time ,\\ncitizensr financial group .\\n   \n",
       "\n",
       "      label_num  \n",
       "0             0  \n",
       "1             0  \n",
       "2             0  \n",
       "3             1  \n",
       "4             0  \n",
       "...         ...  \n",
       "5166          0  \n",
       "5167          0  \n",
       "5168          0  \n",
       "5169          0  \n",
       "5170          1  \n",
       "\n",
       "[5171 rows x 4 columns]"
      ]
     },
     "execution_count": 82,
     "metadata": {},
     "output_type": "execute_result"
    }
   ],
   "source": [
    "data=pd.read_csv(\"spam_ham_dataset.csv\")\n",
    "data"
   ]
  },
  {
   "cell_type": "code",
   "execution_count": 83,
   "metadata": {},
   "outputs": [
    {
     "name": "stdout",
     "output_type": "stream",
     "text": [
      "<class 'pandas.core.frame.DataFrame'>\n",
      "RangeIndex: 5171 entries, 0 to 5170\n",
      "Data columns (total 4 columns):\n",
      " #   Column      Non-Null Count  Dtype \n",
      "---  ------      --------------  ----- \n",
      " 0   Unnamed: 0  5171 non-null   int64 \n",
      " 1   label       5171 non-null   object\n",
      " 2   text        5171 non-null   object\n",
      " 3   label_num   5171 non-null   int64 \n",
      "dtypes: int64(2), object(2)\n",
      "memory usage: 161.7+ KB\n"
     ]
    }
   ],
   "source": [
    "data.info()"
   ]
  },
  {
   "cell_type": "code",
   "execution_count": 84,
   "metadata": {},
   "outputs": [
    {
     "data": {
      "text/plain": [
       "label\n",
       "ham     3672\n",
       "spam    1499\n",
       "Name: count, dtype: int64"
      ]
     },
     "execution_count": 84,
     "metadata": {},
     "output_type": "execute_result"
    }
   ],
   "source": [
    "data[\"label\"].value_counts()"
   ]
  },
  {
   "cell_type": "code",
   "execution_count": 85,
   "metadata": {},
   "outputs": [
    {
     "data": {
      "text/html": [
       "<div>\n",
       "<style scoped>\n",
       "    .dataframe tbody tr th:only-of-type {\n",
       "        vertical-align: middle;\n",
       "    }\n",
       "\n",
       "    .dataframe tbody tr th {\n",
       "        vertical-align: top;\n",
       "    }\n",
       "\n",
       "    .dataframe thead th {\n",
       "        text-align: right;\n",
       "    }\n",
       "</style>\n",
       "<table border=\"1\" class=\"dataframe\">\n",
       "  <thead>\n",
       "    <tr style=\"text-align: right;\">\n",
       "      <th></th>\n",
       "      <th>Unnamed: 0</th>\n",
       "      <th>label</th>\n",
       "      <th>text</th>\n",
       "      <th>label_num</th>\n",
       "    </tr>\n",
       "  </thead>\n",
       "  <tbody>\n",
       "    <tr>\n",
       "      <th>0</th>\n",
       "      <td>605</td>\n",
       "      <td>ham</td>\n",
       "      <td>Subject: enron methanol ; meter # : 988291\\nthis is a follow up to the note i gave you on monday , 4 / 3 / 00 { preliminary\\nflow data provided by daren } .\\nplease override pop ' s daily volume { presently zero } to reflect daily\\nactivity you can obtain from gas control .\\nthis change is needed asap for economics purposes .</td>\n",
       "      <td>0</td>\n",
       "    </tr>\n",
       "    <tr>\n",
       "      <th>1</th>\n",
       "      <td>2349</td>\n",
       "      <td>ham</td>\n",
       "      <td>Subject: hpl nom for january 9 , 2001\\n( see attached file : hplnol 09 . xls )\\n- hplnol 09 . xls</td>\n",
       "      <td>0</td>\n",
       "    </tr>\n",
       "    <tr>\n",
       "      <th>2</th>\n",
       "      <td>3624</td>\n",
       "      <td>ham</td>\n",
       "      <td>Subject: neon retreat\\nho ho ho , we ' re around to that most wonderful time of the year - - - neon leaders retreat time !\\ni know that this time of year is extremely hectic , and that it ' s tough to think about anything past the holidays , but life does go on past the week of december 25 through january 1 , and that ' s what i ' d like you to think about for a minute .\\non the calender that i handed out at the beginning of the fall semester , the retreat was scheduled for the weekend of january 5 - 6 . but because of a youth ministers conference that brad and dustin are connected with that week , we ' re going to change the date to the following weekend , january 12 - 13 . now comes the part you need to think about .\\ni think we all agree that it ' s important for us to get together and have some time to recharge our batteries before we get to far into the spring semester , but it can be a lot of trouble and difficult for us to get away without kids , etc . so , brad came up with a potential alternative for how we can get together on that weekend , and then you can let me know which you prefer .\\nthe first option would be to have a retreat similar to what we ' ve done the past several years . this year we could go to the heartland country inn ( www . . com ) outside of brenham . it ' s a nice place , where we ' d have a 13 - bedroom and a 5 - bedroom house side by side . it ' s in the country , real relaxing , but also close to brenham and only about one hour and 15 minutes from here . we can golf , shop in the antique and craft stores in brenham , eat dinner together at the ranch , and spend time with each other . we ' d meet on saturday , and then return on sunday morning , just like what we ' ve done in the past .\\nthe second option would be to stay here in houston , have dinner together at a nice restaurant , and then have dessert and a time for visiting and recharging at one of our homes on that saturday evening . this might be easier , but the trade off would be that we wouldn ' t have as much time together . i ' ll let you decide .\\nemail me back with what would be your preference , and of course if you ' re available on that weekend . the democratic process will prevail - - majority vote will rule ! let me hear from you as soon as possible , preferably by the end of the weekend . and if the vote doesn ' t go your way , no complaining allowed ( like i tend to do ! )\\nhave a great weekend , great golf , great fishing , great shopping , or whatever makes you happy !\\nbobby</td>\n",
       "      <td>0</td>\n",
       "    </tr>\n",
       "    <tr>\n",
       "      <th>3</th>\n",
       "      <td>4685</td>\n",
       "      <td>spam</td>\n",
       "      <td>Subject: photoshop , windows , office . cheap . main trending\\nabasements darer prudently fortuitous undergone\\nlighthearted charm orinoco taster\\nrailroad affluent pornographic cuvier\\nirvin parkhouse blameworthy chlorophyll\\nrobed diagrammatic fogarty clears bayda\\ninconveniencing managing represented smartness hashish\\nacademies shareholders unload badness\\ndanielson pure caffein\\nspaniard chargeable levin\\n</td>\n",
       "      <td>1</td>\n",
       "    </tr>\n",
       "    <tr>\n",
       "      <th>4</th>\n",
       "      <td>2030</td>\n",
       "      <td>ham</td>\n",
       "      <td>Subject: re : indian springs\\nthis deal is to book the teco pvr revenue . it is my understanding that teco\\njust sends us a check , i haven ' t received an answer as to whether there is a\\npredermined price associated with this deal or if teco just lets us know what\\nwe are giving . i can continue to chase this deal down if you need .</td>\n",
       "      <td>0</td>\n",
       "    </tr>\n",
       "  </tbody>\n",
       "</table>\n",
       "</div>"
      ],
      "text/plain": [
       "   Unnamed: 0 label  \\\n",
       "0         605   ham   \n",
       "1        2349   ham   \n",
       "2        3624   ham   \n",
       "3        4685  spam   \n",
       "4        2030   ham   \n",
       "\n",
       "                                                                                                                                                                                                                                                                                                                                                                                                                                                                                                                                                                                                                                                                                                                                                                                                                                                                                                                                                                                                                                                                                                                                                                                                                                                                                                                                                                                                                                                                                                                                                                                                                                                                                                                                                                                                                                                                                                                                                                                                                                                                                                                                                                                                                                                                                                                                                                                                                                                                                                                                                                                                                           text  \\\n",
       "0                                                                                                                                                                                                                                                                                                                                                                                                                                                                                                                                                                                                                                                                                                                                                                                                                                                                                                                                                                                                                                                                                                                                                                                                                                                                                                                                                                                                                                                                                                                                                                                                                                                                                                                                                                                                                                                                                                                                                                                                                                                                                                                                                                                                                                                                                       Subject: enron methanol ; meter # : 988291\\nthis is a follow up to the note i gave you on monday , 4 / 3 / 00 { preliminary\\nflow data provided by daren } .\\nplease override pop ' s daily volume { presently zero } to reflect daily\\nactivity you can obtain from gas control .\\nthis change is needed asap for economics purposes .   \n",
       "1                                                                                                                                                                                                                                                                                                                                                                                                                                                                                                                                                                                                                                                                                                                                                                                                                                                                                                                                                                                                                                                                                                                                                                                                                                                                                                                                                                                                                                                                                                                                                                                                                                                                                                                                                                                                                                                                                                                                                                                                                                                                                                                                                                                                                                                                                                                                                                                                                                                                                                                             Subject: hpl nom for january 9 , 2001\\n( see attached file : hplnol 09 . xls )\\n- hplnol 09 . xls   \n",
       "2  Subject: neon retreat\\nho ho ho , we ' re around to that most wonderful time of the year - - - neon leaders retreat time !\\ni know that this time of year is extremely hectic , and that it ' s tough to think about anything past the holidays , but life does go on past the week of december 25 through january 1 , and that ' s what i ' d like you to think about for a minute .\\non the calender that i handed out at the beginning of the fall semester , the retreat was scheduled for the weekend of january 5 - 6 . but because of a youth ministers conference that brad and dustin are connected with that week , we ' re going to change the date to the following weekend , january 12 - 13 . now comes the part you need to think about .\\ni think we all agree that it ' s important for us to get together and have some time to recharge our batteries before we get to far into the spring semester , but it can be a lot of trouble and difficult for us to get away without kids , etc . so , brad came up with a potential alternative for how we can get together on that weekend , and then you can let me know which you prefer .\\nthe first option would be to have a retreat similar to what we ' ve done the past several years . this year we could go to the heartland country inn ( www . . com ) outside of brenham . it ' s a nice place , where we ' d have a 13 - bedroom and a 5 - bedroom house side by side . it ' s in the country , real relaxing , but also close to brenham and only about one hour and 15 minutes from here . we can golf , shop in the antique and craft stores in brenham , eat dinner together at the ranch , and spend time with each other . we ' d meet on saturday , and then return on sunday morning , just like what we ' ve done in the past .\\nthe second option would be to stay here in houston , have dinner together at a nice restaurant , and then have dessert and a time for visiting and recharging at one of our homes on that saturday evening . this might be easier , but the trade off would be that we wouldn ' t have as much time together . i ' ll let you decide .\\nemail me back with what would be your preference , and of course if you ' re available on that weekend . the democratic process will prevail - - majority vote will rule ! let me hear from you as soon as possible , preferably by the end of the weekend . and if the vote doesn ' t go your way , no complaining allowed ( like i tend to do ! )\\nhave a great weekend , great golf , great fishing , great shopping , or whatever makes you happy !\\nbobby   \n",
       "3                                                                                                                                                                                                                                                                                                                                                                                                                                                                                                                                                                                                                                                                                                                                                                                                                                                                                                                                                                                                                                                                                                                                                                                                                                                                                                                                                                                                                                                                                                                                                                                                                                                                                                                                                                                                                                                                                                                                                                                                                                                                                                                                                                                                Subject: photoshop , windows , office . cheap . main trending\\nabasements darer prudently fortuitous undergone\\nlighthearted charm orinoco taster\\nrailroad affluent pornographic cuvier\\nirvin parkhouse blameworthy chlorophyll\\nrobed diagrammatic fogarty clears bayda\\ninconveniencing managing represented smartness hashish\\nacademies shareholders unload badness\\ndanielson pure caffein\\nspaniard chargeable levin\\n   \n",
       "4                                                                                                                                                                                                                                                                                                                                                                                                                                                                                                                                                                                                                                                                                                                                                                                                                                                                                                                                                                                                                                                                                                                                                                                                                                                                                                                                                                                                                                                                                                                                                                                                                                                                                                                                                                                                                                                                                                                                                                                                                                                                                                                                                                                                                                                                              Subject: re : indian springs\\nthis deal is to book the teco pvr revenue . it is my understanding that teco\\njust sends us a check , i haven ' t received an answer as to whether there is a\\npredermined price associated with this deal or if teco just lets us know what\\nwe are giving . i can continue to chase this deal down if you need .   \n",
       "\n",
       "   label_num  \n",
       "0          0  \n",
       "1          0  \n",
       "2          0  \n",
       "3          1  \n",
       "4          0  "
      ]
     },
     "execution_count": 85,
     "metadata": {},
     "output_type": "execute_result"
    }
   ],
   "source": [
    "data.head()"
   ]
  },
  {
   "cell_type": "code",
   "execution_count": 46,
   "metadata": {},
   "outputs": [
    {
     "data": {
      "text/plain": [
       "Index(['Unnamed: 0', 'label', 'text', 'label_num'], dtype='object')"
      ]
     },
     "execution_count": 46,
     "metadata": {},
     "output_type": "execute_result"
    }
   ],
   "source": [
    "data.columns"
   ]
  },
  {
   "cell_type": "code",
   "execution_count": 47,
   "metadata": {},
   "outputs": [],
   "source": [
    "data=data.drop(['Unnamed: 0','label',],axis=1)\n"
   ]
  },
  {
   "cell_type": "code",
   "execution_count": 48,
   "metadata": {},
   "outputs": [],
   "source": [
    "data.rename(columns={\"label_num\":\"label\"},inplace=True)"
   ]
  },
  {
   "cell_type": "code",
   "execution_count": 49,
   "metadata": {},
   "outputs": [
    {
     "data": {
      "text/html": [
       "<div>\n",
       "<style scoped>\n",
       "    .dataframe tbody tr th:only-of-type {\n",
       "        vertical-align: middle;\n",
       "    }\n",
       "\n",
       "    .dataframe tbody tr th {\n",
       "        vertical-align: top;\n",
       "    }\n",
       "\n",
       "    .dataframe thead th {\n",
       "        text-align: right;\n",
       "    }\n",
       "</style>\n",
       "<table border=\"1\" class=\"dataframe\">\n",
       "  <thead>\n",
       "    <tr style=\"text-align: right;\">\n",
       "      <th></th>\n",
       "      <th>text</th>\n",
       "      <th>label</th>\n",
       "    </tr>\n",
       "  </thead>\n",
       "  <tbody>\n",
       "    <tr>\n",
       "      <th>0</th>\n",
       "      <td>Subject: enron methanol ; meter # : 988291\\nthis is a follow up to the note i gave you on monday , 4 / 3 / 00 { preliminary\\nflow data provided by daren } .\\nplease override pop ' s daily volume { presently zero } to reflect daily\\nactivity you can obtain from gas control .\\nthis change is needed asap for economics purposes .</td>\n",
       "      <td>0</td>\n",
       "    </tr>\n",
       "    <tr>\n",
       "      <th>1</th>\n",
       "      <td>Subject: hpl nom for january 9 , 2001\\n( see attached file : hplnol 09 . xls )\\n- hplnol 09 . xls</td>\n",
       "      <td>0</td>\n",
       "    </tr>\n",
       "    <tr>\n",
       "      <th>2</th>\n",
       "      <td>Subject: neon retreat\\nho ho ho , we ' re around to that most wonderful time of the year - - - neon leaders retreat time !\\ni know that this time of year is extremely hectic , and that it ' s tough to think about anything past the holidays , but life does go on past the week of december 25 through january 1 , and that ' s what i ' d like you to think about for a minute .\\non the calender that i handed out at the beginning of the fall semester , the retreat was scheduled for the weekend of january 5 - 6 . but because of a youth ministers conference that brad and dustin are connected with that week , we ' re going to change the date to the following weekend , january 12 - 13 . now comes the part you need to think about .\\ni think we all agree that it ' s important for us to get together and have some time to recharge our batteries before we get to far into the spring semester , but it can be a lot of trouble and difficult for us to get away without kids , etc . so , brad came up with a potential alternative for how we can get together on that weekend , and then you can let me know which you prefer .\\nthe first option would be to have a retreat similar to what we ' ve done the past several years . this year we could go to the heartland country inn ( www . . com ) outside of brenham . it ' s a nice place , where we ' d have a 13 - bedroom and a 5 - bedroom house side by side . it ' s in the country , real relaxing , but also close to brenham and only about one hour and 15 minutes from here . we can golf , shop in the antique and craft stores in brenham , eat dinner together at the ranch , and spend time with each other . we ' d meet on saturday , and then return on sunday morning , just like what we ' ve done in the past .\\nthe second option would be to stay here in houston , have dinner together at a nice restaurant , and then have dessert and a time for visiting and recharging at one of our homes on that saturday evening . this might be easier , but the trade off would be that we wouldn ' t have as much time together . i ' ll let you decide .\\nemail me back with what would be your preference , and of course if you ' re available on that weekend . the democratic process will prevail - - majority vote will rule ! let me hear from you as soon as possible , preferably by the end of the weekend . and if the vote doesn ' t go your way , no complaining allowed ( like i tend to do ! )\\nhave a great weekend , great golf , great fishing , great shopping , or whatever makes you happy !\\nbobby</td>\n",
       "      <td>0</td>\n",
       "    </tr>\n",
       "    <tr>\n",
       "      <th>3</th>\n",
       "      <td>Subject: photoshop , windows , office . cheap . main trending\\nabasements darer prudently fortuitous undergone\\nlighthearted charm orinoco taster\\nrailroad affluent pornographic cuvier\\nirvin parkhouse blameworthy chlorophyll\\nrobed diagrammatic fogarty clears bayda\\ninconveniencing managing represented smartness hashish\\nacademies shareholders unload badness\\ndanielson pure caffein\\nspaniard chargeable levin\\n</td>\n",
       "      <td>1</td>\n",
       "    </tr>\n",
       "    <tr>\n",
       "      <th>4</th>\n",
       "      <td>Subject: re : indian springs\\nthis deal is to book the teco pvr revenue . it is my understanding that teco\\njust sends us a check , i haven ' t received an answer as to whether there is a\\npredermined price associated with this deal or if teco just lets us know what\\nwe are giving . i can continue to chase this deal down if you need .</td>\n",
       "      <td>0</td>\n",
       "    </tr>\n",
       "    <tr>\n",
       "      <th>...</th>\n",
       "      <td>...</td>\n",
       "      <td>...</td>\n",
       "    </tr>\n",
       "    <tr>\n",
       "      <th>5166</th>\n",
       "      <td>Subject: put the 10 on the ft\\nthe transport volumes decreased from 25000 to 10000 . all 10000 should be on\\ncontract 012 - 41991 - 203 .\\nthanks ,\\nami\\n- - - - - - - - - - - - - - - - - - - - - - forwarded by ami chokshi / corp / enron on 08 / 31 / 2000\\n10 : 54 am - - - - - - - - - - - - - - - - - - - - - - - - - - -\\nroyal _ b _ edmondson @ reliantenergy . com on 08 / 31 / 2000 10 : 47 : 37 am\\nto : ami _ chokshi @ enron . com\\ncc :\\nsubject : put the 10 on the ft\\n( see attached file : hpl - sept . xls )\\n- hpl - sept . xls</td>\n",
       "      <td>0</td>\n",
       "    </tr>\n",
       "    <tr>\n",
       "      <th>5167</th>\n",
       "      <td>Subject: 3 / 4 / 2000 and following noms\\nhpl can ' t take the extra 15 mmcf / d over the weekend . we ' ll try next week ,\\nbut for now the nom will stay at 60 mmcf / d , with redeliveries as they have\\nbeen\\n-\\n50 into pg &amp; e , 7 from fcv , and 3 at carthage .\\n- - - - - - - - - - - - - - - - - - - - - - forwarded by bruce mcmills / ftworth / pefs / pec on\\n03 / 03 / 2000\\n09 : 42 am - - - - - - - - - - - - - - - - - - - - - - - - - - -\\nbruce mcmills\\n03 / 03 / 2000 09 : 10 am\\nto : dfarmer @ enron . com , briley @ enron . com , stacey . neuweiler @ enron . com\\ncc : chad w . cass / gcs / cec / pec @ pec , william e . speckels / gcs / cec / pec @ pec , donna\\nc . spencer / gcs / cec / pec @ pec , michael r . cherry / easttexas / pefs / pec @ pec ,\\ndarrel f . bane / easttexas / pefs / pec @ pec\\nsubject : 3 / 4 / 2000 and following noms\\nthis is to nominate 75 , 000 mmbtu / d into eastrans for 3 / 4 / 2000 and following .\\nwe will deliver 50 , 000 into pg &amp; e , 7 , 000 from fuel cotton valley ( continue\\n750\\nmmbtu / d sale ) ,\\nand 18 , 000 mmbtu / d into your cartwheel agreement at carthage .</td>\n",
       "      <td>0</td>\n",
       "    </tr>\n",
       "    <tr>\n",
       "      <th>5168</th>\n",
       "      <td>Subject: calpine daily gas nomination\\n&gt;\\n&gt;\\njulie , as i mention earlier we hope to start the unit this afternoon but\\nare still experiencing difficulties . i will keep you informed . thanks .\\nricky a . archer\\nfuel supply\\n700 louisiana , suite 2700\\nhouston , texas 77002\\n713 - 830 - 8659 direct\\n713 - 830 - 8722 fax\\n- calpine daily gas nomination 1 . doc\\n- calpine daily gas nomination 1 . doc</td>\n",
       "      <td>0</td>\n",
       "    </tr>\n",
       "    <tr>\n",
       "      <th>5169</th>\n",
       "      <td>Subject: industrial worksheets for august 2000 activity\\nattached are the worksheets for august 2000 activity . there are three\\ndifferent worksheets { 2 - supply &amp; 1 - market } .\\nthe market worksheet is preliminary and will continuously be updated\\nthroughout the month .\\nthe supply worksheets capture all \" buybacks and the relevant pricing data .\\nthese three worksheets can be found in two separate files . o :\\nlogistics / robert lloyd / buydeaug 2000 . xls . . . . . . . . . . . . . supply\\no : logistics / ken\\nsorry for the delay in providing you ' ll this data .</td>\n",
       "      <td>0</td>\n",
       "    </tr>\n",
       "    <tr>\n",
       "      <th>5170</th>\n",
       "      <td>Subject: important online banking alert\\ndear valued citizensr bank member ,\\ndue to concerns , for the safety and integrity of the online banking community we have issued the following warning message .\\nit has come to our attention that your citizensr bank account information needs to be updated as part of our continuing commitment to protect your account and to reduce the instance of fraud on our website . if you could please take 5 - 10 minutes out of your online experience and renew your records you will not run into any future problems with the online service . however , failure to confirm your records may result in your account suspension .\\nonce you have confirmed your account records your internet banking service will not be interrupted and will continue as normal .\\nto confirm your bank account records please click here .\\nnote :\\nthis e - mail was sent on behalf of the online banking community , if you do not have an online banking account with charterr one then this message does not apply to you and you may ignore this message .\\nthank you for your time ,\\ncitizensr financial group .\\n</td>\n",
       "      <td>1</td>\n",
       "    </tr>\n",
       "  </tbody>\n",
       "</table>\n",
       "<p>5171 rows × 2 columns</p>\n",
       "</div>"
      ],
      "text/plain": [
       "                                                                                                                                                                                                                                                                                                                                                                                                                                                                                                                                                                                                                                                                                                                                                                                                                                                                                                                                                                                                                                                                                                                                                                                                                                                                                                                                                                                                                                                                                                                                                                                                                                                                                                                                                                                                                                                                                                                                                                                                                                                                                                                                                                                                                                                                                                                                                                                                                                                                                                                                                                                                                              text  \\\n",
       "0                                                                                                                                                                                                                                                                                                                                                                                                                                                                                                                                                                                                                                                                                                                                                                                                                                                                                                                                                                                                                                                                                                                                                                                                                                                                                                                                                                                                                                                                                                                                                                                                                                                                                                                                                                                                                                                                                                                                                                                                                                                                                                                                                                                                                                                                                          Subject: enron methanol ; meter # : 988291\\nthis is a follow up to the note i gave you on monday , 4 / 3 / 00 { preliminary\\nflow data provided by daren } .\\nplease override pop ' s daily volume { presently zero } to reflect daily\\nactivity you can obtain from gas control .\\nthis change is needed asap for economics purposes .   \n",
       "1                                                                                                                                                                                                                                                                                                                                                                                                                                                                                                                                                                                                                                                                                                                                                                                                                                                                                                                                                                                                                                                                                                                                                                                                                                                                                                                                                                                                                                                                                                                                                                                                                                                                                                                                                                                                                                                                                                                                                                                                                                                                                                                                                                                                                                                                                                                                                                                                                                                                                                                                Subject: hpl nom for january 9 , 2001\\n( see attached file : hplnol 09 . xls )\\n- hplnol 09 . xls   \n",
       "2     Subject: neon retreat\\nho ho ho , we ' re around to that most wonderful time of the year - - - neon leaders retreat time !\\ni know that this time of year is extremely hectic , and that it ' s tough to think about anything past the holidays , but life does go on past the week of december 25 through january 1 , and that ' s what i ' d like you to think about for a minute .\\non the calender that i handed out at the beginning of the fall semester , the retreat was scheduled for the weekend of january 5 - 6 . but because of a youth ministers conference that brad and dustin are connected with that week , we ' re going to change the date to the following weekend , january 12 - 13 . now comes the part you need to think about .\\ni think we all agree that it ' s important for us to get together and have some time to recharge our batteries before we get to far into the spring semester , but it can be a lot of trouble and difficult for us to get away without kids , etc . so , brad came up with a potential alternative for how we can get together on that weekend , and then you can let me know which you prefer .\\nthe first option would be to have a retreat similar to what we ' ve done the past several years . this year we could go to the heartland country inn ( www . . com ) outside of brenham . it ' s a nice place , where we ' d have a 13 - bedroom and a 5 - bedroom house side by side . it ' s in the country , real relaxing , but also close to brenham and only about one hour and 15 minutes from here . we can golf , shop in the antique and craft stores in brenham , eat dinner together at the ranch , and spend time with each other . we ' d meet on saturday , and then return on sunday morning , just like what we ' ve done in the past .\\nthe second option would be to stay here in houston , have dinner together at a nice restaurant , and then have dessert and a time for visiting and recharging at one of our homes on that saturday evening . this might be easier , but the trade off would be that we wouldn ' t have as much time together . i ' ll let you decide .\\nemail me back with what would be your preference , and of course if you ' re available on that weekend . the democratic process will prevail - - majority vote will rule ! let me hear from you as soon as possible , preferably by the end of the weekend . and if the vote doesn ' t go your way , no complaining allowed ( like i tend to do ! )\\nhave a great weekend , great golf , great fishing , great shopping , or whatever makes you happy !\\nbobby   \n",
       "3                                                                                                                                                                                                                                                                                                                                                                                                                                                                                                                                                                                                                                                                                                                                                                                                                                                                                                                                                                                                                                                                                                                                                                                                                                                                                                                                                                                                                                                                                                                                                                                                                                                                                                                                                                                                                                                                                                                                                                                                                                                                                                                                                                                                   Subject: photoshop , windows , office . cheap . main trending\\nabasements darer prudently fortuitous undergone\\nlighthearted charm orinoco taster\\nrailroad affluent pornographic cuvier\\nirvin parkhouse blameworthy chlorophyll\\nrobed diagrammatic fogarty clears bayda\\ninconveniencing managing represented smartness hashish\\nacademies shareholders unload badness\\ndanielson pure caffein\\nspaniard chargeable levin\\n   \n",
       "4                                                                                                                                                                                                                                                                                                                                                                                                                                                                                                                                                                                                                                                                                                                                                                                                                                                                                                                                                                                                                                                                                                                                                                                                                                                                                                                                                                                                                                                                                                                                                                                                                                                                                                                                                                                                                                                                                                                                                                                                                                                                                                                                                                                                                                                                                 Subject: re : indian springs\\nthis deal is to book the teco pvr revenue . it is my understanding that teco\\njust sends us a check , i haven ' t received an answer as to whether there is a\\npredermined price associated with this deal or if teco just lets us know what\\nwe are giving . i can continue to chase this deal down if you need .   \n",
       "...                                                                                                                                                                                                                                                                                                                                                                                                                                                                                                                                                                                                                                                                                                                                                                                                                                                                                                                                                                                                                                                                                                                                                                                                                                                                                                                                                                                                                                                                                                                                                                                                                                                                                                                                                                                                                                                                                                                                                                                                                                                                                                                                                                                                                                                                                                                                                                                                                                                                                                                                                                                                                            ...   \n",
       "5166                                                                                                                                                                                                                                                                                                                                                                                                                                                                                                                                                                                                                                                                                                                                                                                                                                                                                                                                                                                                                                                                                                                                                                                                                                                                                                                                                                                                                                                                                                                                                                                                                                                                                                                                                                                                                                                                                                                                                                                                                                                                        Subject: put the 10 on the ft\\nthe transport volumes decreased from 25000 to 10000 . all 10000 should be on\\ncontract 012 - 41991 - 203 .\\nthanks ,\\nami\\n- - - - - - - - - - - - - - - - - - - - - - forwarded by ami chokshi / corp / enron on 08 / 31 / 2000\\n10 : 54 am - - - - - - - - - - - - - - - - - - - - - - - - - - -\\nroyal _ b _ edmondson @ reliantenergy . com on 08 / 31 / 2000 10 : 47 : 37 am\\nto : ami _ chokshi @ enron . com\\ncc :\\nsubject : put the 10 on the ft\\n( see attached file : hpl - sept . xls )\\n- hpl - sept . xls   \n",
       "5167                                                                                                                                                                                                                                                                                                                                                                                                                                                                                                                                                                                                                                                                                                                                                                                                                                                                                                                                                                                                                                                                                                                                                                                                                                                                                                                                                                                                                                                                    Subject: 3 / 4 / 2000 and following noms\\nhpl can ' t take the extra 15 mmcf / d over the weekend . we ' ll try next week ,\\nbut for now the nom will stay at 60 mmcf / d , with redeliveries as they have\\nbeen\\n-\\n50 into pg & e , 7 from fcv , and 3 at carthage .\\n- - - - - - - - - - - - - - - - - - - - - - forwarded by bruce mcmills / ftworth / pefs / pec on\\n03 / 03 / 2000\\n09 : 42 am - - - - - - - - - - - - - - - - - - - - - - - - - - -\\nbruce mcmills\\n03 / 03 / 2000 09 : 10 am\\nto : dfarmer @ enron . com , briley @ enron . com , stacey . neuweiler @ enron . com\\ncc : chad w . cass / gcs / cec / pec @ pec , william e . speckels / gcs / cec / pec @ pec , donna\\nc . spencer / gcs / cec / pec @ pec , michael r . cherry / easttexas / pefs / pec @ pec ,\\ndarrel f . bane / easttexas / pefs / pec @ pec\\nsubject : 3 / 4 / 2000 and following noms\\nthis is to nominate 75 , 000 mmbtu / d into eastrans for 3 / 4 / 2000 and following .\\nwe will deliver 50 , 000 into pg & e , 7 , 000 from fuel cotton valley ( continue\\n750\\nmmbtu / d sale ) ,\\nand 18 , 000 mmbtu / d into your cartwheel agreement at carthage .   \n",
       "5168                                                                                                                                                                                                                                                                                                                                                                                                                                                                                                                                                                                                                                                                                                                                                                                                                                                                                                                                                                                                                                                                                                                                                                                                                                                                                                                                                                                                                                                                                                                                                                                                                                                                                                                                                                                                                                                                                                                                                                                                                                                                                                                                                                                                            Subject: calpine daily gas nomination\\n>\\n>\\njulie , as i mention earlier we hope to start the unit this afternoon but\\nare still experiencing difficulties . i will keep you informed . thanks .\\nricky a . archer\\nfuel supply\\n700 louisiana , suite 2700\\nhouston , texas 77002\\n713 - 830 - 8659 direct\\n713 - 830 - 8722 fax\\n- calpine daily gas nomination 1 . doc\\n- calpine daily gas nomination 1 . doc   \n",
       "5169                                                                                                                                                                                                                                                                                                                                                                                                                                                                                                                                                                                                                                                                                                                                                                                                                                                                                                                                                                                                                                                                                                                                                                                                                                                                                                                                                                                                                                                                                                                                                                                                                                                                                                                                                                                                                                                                                                                                                                                                                                 Subject: industrial worksheets for august 2000 activity\\nattached are the worksheets for august 2000 activity . there are three\\ndifferent worksheets { 2 - supply & 1 - market } .\\nthe market worksheet is preliminary and will continuously be updated\\nthroughout the month .\\nthe supply worksheets capture all \" buybacks and the relevant pricing data .\\nthese three worksheets can be found in two separate files . o :\\nlogistics / robert lloyd / buydeaug 2000 . xls . . . . . . . . . . . . . supply\\no : logistics / ken\\nsorry for the delay in providing you ' ll this data .   \n",
       "5170                                                                                                                                                                                                                                                                                                                                                                                                                                                                                                                                                                                                                                                                                                                                                                                                                                                                                                                                                                                                                                                                                                                                                                                                                                                                                                                                                                                                                                                                    Subject: important online banking alert\\ndear valued citizensr bank member ,\\ndue to concerns , for the safety and integrity of the online banking community we have issued the following warning message .\\nit has come to our attention that your citizensr bank account information needs to be updated as part of our continuing commitment to protect your account and to reduce the instance of fraud on our website . if you could please take 5 - 10 minutes out of your online experience and renew your records you will not run into any future problems with the online service . however , failure to confirm your records may result in your account suspension .\\nonce you have confirmed your account records your internet banking service will not be interrupted and will continue as normal .\\nto confirm your bank account records please click here .\\nnote :\\nthis e - mail was sent on behalf of the online banking community , if you do not have an online banking account with charterr one then this message does not apply to you and you may ignore this message .\\nthank you for your time ,\\ncitizensr financial group .\\n   \n",
       "\n",
       "      label  \n",
       "0         0  \n",
       "1         0  \n",
       "2         0  \n",
       "3         1  \n",
       "4         0  \n",
       "...     ...  \n",
       "5166      0  \n",
       "5167      0  \n",
       "5168      0  \n",
       "5169      0  \n",
       "5170      1  \n",
       "\n",
       "[5171 rows x 2 columns]"
      ]
     },
     "execution_count": 49,
     "metadata": {},
     "output_type": "execute_result"
    }
   ],
   "source": [
    "data"
   ]
  },
  {
   "cell_type": "code",
   "execution_count": 51,
   "metadata": {},
   "outputs": [
    {
     "data": {
      "text/plain": [
       "label\n",
       "0    3672\n",
       "1    1499\n",
       "Name: count, dtype: int64"
      ]
     },
     "execution_count": 51,
     "metadata": {},
     "output_type": "execute_result"
    }
   ],
   "source": [
    "data[\"label\"].value_counts()"
   ]
  },
  {
   "cell_type": "markdown",
   "metadata": {},
   "source": [
    "Data Preprocessing :"
   ]
  },
  {
   "cell_type": "code",
   "execution_count": 52,
   "metadata": {},
   "outputs": [
    {
     "data": {
      "text/plain": [
       "np.int64(178)"
      ]
     },
     "execution_count": 52,
     "metadata": {},
     "output_type": "execute_result"
    }
   ],
   "source": [
    "data.duplicated().sum()"
   ]
  },
  {
   "cell_type": "code",
   "execution_count": 53,
   "metadata": {},
   "outputs": [],
   "source": [
    "nlp = spacy.load(\"en_core_web_sm\")"
   ]
  },
  {
   "cell_type": "code",
   "execution_count": 12,
   "metadata": {},
   "outputs": [],
   "source": [
    "## Remove stop words, punctuation, digits, and convert to lowercase"
   ]
  },
  {
   "cell_type": "code",
   "execution_count": 54,
   "metadata": {},
   "outputs": [],
   "source": [
    "\n",
    "data[\"text\"]=data[\"text\"].apply(lambda x : ' '.join([token.text for token in nlp(x) if not token.is_stop  and not token.is_punct and not token.like_num]))"
   ]
  },
  {
   "cell_type": "code",
   "execution_count": 55,
   "metadata": {},
   "outputs": [],
   "source": [
    "data.to_csv('data_cleaned.csv', index=False)"
   ]
  },
  {
   "cell_type": "code",
   "execution_count": 56,
   "metadata": {},
   "outputs": [
    {
     "data": {
      "text/html": [
       "<div>\n",
       "<style scoped>\n",
       "    .dataframe tbody tr th:only-of-type {\n",
       "        vertical-align: middle;\n",
       "    }\n",
       "\n",
       "    .dataframe tbody tr th {\n",
       "        vertical-align: top;\n",
       "    }\n",
       "\n",
       "    .dataframe thead th {\n",
       "        text-align: right;\n",
       "    }\n",
       "</style>\n",
       "<table border=\"1\" class=\"dataframe\">\n",
       "  <thead>\n",
       "    <tr style=\"text-align: right;\">\n",
       "      <th></th>\n",
       "      <th>text</th>\n",
       "      <th>label</th>\n",
       "    </tr>\n",
       "  </thead>\n",
       "  <tbody>\n",
       "    <tr>\n",
       "      <th>0</th>\n",
       "      <td>Subject enron methanol meter \\n follow note gave monday preliminary \\n flow data provided daren \\n override pop s daily volume presently reflect daily \\n activity obtain gas control \\n change needed asap economics purposes</td>\n",
       "      <td>0</td>\n",
       "    </tr>\n",
       "    <tr>\n",
       "      <th>1</th>\n",
       "      <td>Subject hpl nom january \\n attached file hplnol xls \\n hplnol xls</td>\n",
       "      <td>0</td>\n",
       "    </tr>\n",
       "    <tr>\n",
       "      <th>2</th>\n",
       "      <td>Subject neon retreat \\n ho ho ho wonderful time year neon leaders retreat time \\n know time year extremely hectic s tough think past holidays life past week december january s d like think minute \\n calender handed beginning fall semester retreat scheduled weekend january youth ministers conference brad dustin connected week going change date following weekend january comes need think \\n think agree s important time recharge batteries far spring semester lot trouble difficult away kids etc brad came potential alternative weekend let know prefer \\n option retreat similar ve past years year heartland country inn www com outside brenham s nice place d bedroom bedroom house s country real relaxing close brenham hour minutes golf shop antique craft stores brenham eat dinner ranch spend time d meet saturday return sunday morning like ve past \\n option stay houston dinner nice restaurant dessert time visiting recharging homes saturday evening easier trade wouldn t time ll let decide \\n email preference course available weekend democratic process prevail majority vote rule let hear soon possible preferably end weekend vote doesn t way complaining allowed like tend \\n great weekend great golf great fishing great shopping makes happy \\n bobby</td>\n",
       "      <td>0</td>\n",
       "    </tr>\n",
       "    <tr>\n",
       "      <th>3</th>\n",
       "      <td>Subject photoshop windows office cheap main trending \\n abasements darer prudently fortuitous undergone \\n lighthearted charm orinoco taster \\n railroad affluent pornographic cuvier \\n irvin parkhouse blameworthy chlorophyll \\n robed diagrammatic fogarty clears bayda \\n inconveniencing managing represented smartness hashish \\n academies shareholders unload badness \\n danielson pure caffein \\n spaniard chargeable levin \\n</td>\n",
       "      <td>1</td>\n",
       "    </tr>\n",
       "    <tr>\n",
       "      <th>4</th>\n",
       "      <td>Subject indian springs \\n deal book teco pvr revenue understanding teco \\n sends check haven t received answer \\n predermined price associated deal teco lets know \\n giving continue chase deal need</td>\n",
       "      <td>0</td>\n",
       "    </tr>\n",
       "    <tr>\n",
       "      <th>...</th>\n",
       "      <td>...</td>\n",
       "      <td>...</td>\n",
       "    </tr>\n",
       "    <tr>\n",
       "      <th>5166</th>\n",
       "      <td>Subject ft \\n transport volumes decreased \\n contract \\n thanks \\n ami \\n forwarded ami chokshi corp enron \\n \\n royal b edmondson reliantenergy com \\n ami chokshi enron com \\n cc \\n subject ft \\n attached file hpl sept xls \\n hpl sept xls</td>\n",
       "      <td>0</td>\n",
       "    </tr>\n",
       "    <tr>\n",
       "      <th>5167</th>\n",
       "      <td>Subject following noms \\n hpl t extra mmcf d weekend ll try week \\n nom stay mmcf d redeliveries \\n \\n \\n pg e fcv carthage \\n forwarded bruce mcmills ftworth pefs pec \\n \\n \\n bruce mcmills \\n \\n dfarmer enron com briley enron com stacey neuweiler enron com \\n cc chad w cass gcs cec pec pec william e speckels gcs cec pec pec donna \\n c spencer gcs cec pec pec michael r cherry easttexas pefs pec pec \\n darrel f bane easttexas pefs pec pec \\n subject following noms \\n nominate mmbtu d eastrans following \\n deliver pg e fuel cotton valley continue \\n \\n mmbtu d sale \\n mmbtu d cartwheel agreement carthage</td>\n",
       "      <td>0</td>\n",
       "    </tr>\n",
       "    <tr>\n",
       "      <th>5168</th>\n",
       "      <td>Subject calpine daily gas nomination \\n &gt; \\n &gt; \\n julie mention earlier hope start unit afternoon \\n experiencing difficulties informed thanks \\n ricky archer \\n fuel supply \\n louisiana suite \\n houston texas \\n direct \\n fax \\n calpine daily gas nomination doc \\n calpine daily gas nomination doc</td>\n",
       "      <td>0</td>\n",
       "    </tr>\n",
       "    <tr>\n",
       "      <th>5169</th>\n",
       "      <td>Subject industrial worksheets august activity \\n attached worksheets august activity \\n different worksheets supply market \\n market worksheet preliminary continuously updated \\n month \\n supply worksheets capture buybacks relevant pricing data \\n worksheets found separate files o \\n logistics robert lloyd buydeaug xls supply \\n o logistics ken \\n sorry delay providing ll data</td>\n",
       "      <td>0</td>\n",
       "    </tr>\n",
       "    <tr>\n",
       "      <th>5170</th>\n",
       "      <td>Subject important online banking alert \\n dear valued citizensr bank member \\n concerns safety integrity online banking community issued following warning message \\n come attention citizensr bank account information needs updated continuing commitment protect account reduce instance fraud website minutes online experience renew records run future problems online service failure confirm records result account suspension \\n confirmed account records internet banking service interrupted continue normal \\n confirm bank account records click \\n note \\n e mail sent behalf online banking community online banking account charterr message apply ignore message \\n thank time \\n citizensr financial group \\n</td>\n",
       "      <td>1</td>\n",
       "    </tr>\n",
       "  </tbody>\n",
       "</table>\n",
       "<p>5171 rows × 2 columns</p>\n",
       "</div>"
      ],
      "text/plain": [
       "                                                                                                                                                                                                                                                                                                                                                                                                                                                                                                                                                                                                                                                                                                                                                                                                                                                                                                                                                                                                                                                                                                                                                                                                                                                                                                      text  \\\n",
       "0                                                                                                                                                                                                                                                                                                                                                                                                                                                                                                                                                                                                                                                                                                                                                                                                                                                                                                                                                                                                                                                                           Subject enron methanol meter \\n follow note gave monday preliminary \\n flow data provided daren \\n override pop s daily volume presently reflect daily \\n activity obtain gas control \\n change needed asap economics purposes   \n",
       "1                                                                                                                                                                                                                                                                                                                                                                                                                                                                                                                                                                                                                                                                                                                                                                                                                                                                                                                                                                                                                                                                                                                                                                                                                                        Subject hpl nom january \\n attached file hplnol xls \\n hplnol xls   \n",
       "2     Subject neon retreat \\n ho ho ho wonderful time year neon leaders retreat time \\n know time year extremely hectic s tough think past holidays life past week december january s d like think minute \\n calender handed beginning fall semester retreat scheduled weekend january youth ministers conference brad dustin connected week going change date following weekend january comes need think \\n think agree s important time recharge batteries far spring semester lot trouble difficult away kids etc brad came potential alternative weekend let know prefer \\n option retreat similar ve past years year heartland country inn www com outside brenham s nice place d bedroom bedroom house s country real relaxing close brenham hour minutes golf shop antique craft stores brenham eat dinner ranch spend time d meet saturday return sunday morning like ve past \\n option stay houston dinner nice restaurant dessert time visiting recharging homes saturday evening easier trade wouldn t time ll let decide \\n email preference course available weekend democratic process prevail majority vote rule let hear soon possible preferably end weekend vote doesn t way complaining allowed like tend \\n great weekend great golf great fishing great shopping makes happy \\n bobby   \n",
       "3                                                                                                                                                                                                                                                                                                                                                                                                                                                                                                                                                                                                                                                                                                                                                                                                                                                                 Subject photoshop windows office cheap main trending \\n abasements darer prudently fortuitous undergone \\n lighthearted charm orinoco taster \\n railroad affluent pornographic cuvier \\n irvin parkhouse blameworthy chlorophyll \\n robed diagrammatic fogarty clears bayda \\n inconveniencing managing represented smartness hashish \\n academies shareholders unload badness \\n danielson pure caffein \\n spaniard chargeable levin \\n   \n",
       "4                                                                                                                                                                                                                                                                                                                                                                                                                                                                                                                                                                                                                                                                                                                                                                                                                                                                                                                                                                                                                                                                                                    Subject indian springs \\n deal book teco pvr revenue understanding teco \\n sends check haven t received answer \\n predermined price associated deal teco lets know \\n giving continue chase deal need   \n",
       "...                                                                                                                                                                                                                                                                                                                                                                                                                                                                                                                                                                                                                                                                                                                                                                                                                                                                                                                                                                                                                                                                                                                                                                                                                                                                                                    ...   \n",
       "5166                                                                                                                                                                                                                                                                                                                                                                                                                                                                                                                                                                                                                                                                                                                                                                                                                                                                                                                                                                                                                                                       Subject ft \\n transport volumes decreased \\n contract \\n thanks \\n ami \\n forwarded ami chokshi corp enron \\n \\n royal b edmondson reliantenergy com \\n ami chokshi enron com \\n cc \\n subject ft \\n attached file hpl sept xls \\n hpl sept xls   \n",
       "5167                                                                                                                                                                                                                                                                                                                                                                                                                                                                                                                                                                                                                                                                    Subject following noms \\n hpl t extra mmcf d weekend ll try week \\n nom stay mmcf d redeliveries \\n \\n \\n pg e fcv carthage \\n forwarded bruce mcmills ftworth pefs pec \\n \\n \\n bruce mcmills \\n \\n dfarmer enron com briley enron com stacey neuweiler enron com \\n cc chad w cass gcs cec pec pec william e speckels gcs cec pec pec donna \\n c spencer gcs cec pec pec michael r cherry easttexas pefs pec pec \\n darrel f bane easttexas pefs pec pec \\n subject following noms \\n nominate mmbtu d eastrans following \\n deliver pg e fuel cotton valley continue \\n \\n mmbtu d sale \\n mmbtu d cartwheel agreement carthage   \n",
       "5168                                                                                                                                                                                                                                                                                                                                                                                                                                                                                                                                                                                                                                                                                                                                                                                                                                                                                                                                                                                            Subject calpine daily gas nomination \\n > \\n > \\n julie mention earlier hope start unit afternoon \\n experiencing difficulties informed thanks \\n ricky archer \\n fuel supply \\n louisiana suite \\n houston texas \\n direct \\n fax \\n calpine daily gas nomination doc \\n calpine daily gas nomination doc   \n",
       "5169                                                                                                                                                                                                                                                                                                                                                                                                                                                                                                                                                                                                                                                                                                                                                                                                                                                                                                           Subject industrial worksheets august activity \\n attached worksheets august activity \\n different worksheets supply market \\n market worksheet preliminary continuously updated \\n month \\n supply worksheets capture buybacks relevant pricing data \\n worksheets found separate files o \\n logistics robert lloyd buydeaug xls supply \\n o logistics ken \\n sorry delay providing ll data   \n",
       "5170                                                                                                                                                                                                                                                                                                                                                                                                                                                                                                                                                                      Subject important online banking alert \\n dear valued citizensr bank member \\n concerns safety integrity online banking community issued following warning message \\n come attention citizensr bank account information needs updated continuing commitment protect account reduce instance fraud website minutes online experience renew records run future problems online service failure confirm records result account suspension \\n confirmed account records internet banking service interrupted continue normal \\n confirm bank account records click \\n note \\n e mail sent behalf online banking community online banking account charterr message apply ignore message \\n thank time \\n citizensr financial group \\n   \n",
       "\n",
       "      label  \n",
       "0         0  \n",
       "1         0  \n",
       "2         0  \n",
       "3         1  \n",
       "4         0  \n",
       "...     ...  \n",
       "5166      0  \n",
       "5167      0  \n",
       "5168      0  \n",
       "5169      0  \n",
       "5170      1  \n",
       "\n",
       "[5171 rows x 2 columns]"
      ]
     },
     "execution_count": 56,
     "metadata": {},
     "output_type": "execute_result"
    }
   ],
   "source": [
    "cleaned=pd.read_csv(\"data_cleaned.csv\")\n",
    "cleaned\n"
   ]
  },
  {
   "cell_type": "code",
   "execution_count": 57,
   "metadata": {},
   "outputs": [],
   "source": [
    "# Nettoyer les caractères indésirables (retours chariot, sauts de ligne, etc.)\n",
    "cleaned['text'] = cleaned['text'].apply(lambda x: x.replace('\\r', ' ').replace('\\n', ' ').strip())"
   ]
  },
  {
   "cell_type": "code",
   "execution_count": 58,
   "metadata": {},
   "outputs": [
    {
     "name": "stdout",
     "output_type": "stream",
     "text": [
      "Subject enron methanol meter   follow note gave monday preliminary   flow data provided daren   override pop s daily volume presently reflect daily   activity obtain gas control   change needed asap economics purposes\n"
     ]
    }
   ],
   "source": [
    "# Désactiver la troncature des colonnes dans l'affichage\n",
    "pd.set_option('display.max_colwidth', None)\n",
    "\n",
    "# Afficher la première ligne de la colonne 'text' après nettoyage\n",
    "print(cleaned[\"text\"].head(1).to_string(index=False))"
   ]
  },
  {
   "cell_type": "code",
   "execution_count": 59,
   "metadata": {},
   "outputs": [],
   "source": [
    "cleaned.to_csv('data_cleaned2.csv', index=False)"
   ]
  },
  {
   "cell_type": "markdown",
   "metadata": {},
   "source": [
    "Stemming and lemmatization"
   ]
  },
  {
   "cell_type": "markdown",
   "metadata": {},
   "source": [
    "1-Lemmatization: Extracting the lemma for each token"
   ]
  },
  {
   "cell_type": "code",
   "execution_count": 86,
   "metadata": {},
   "outputs": [],
   "source": [
    "cleaned2=pd.read_csv(\"data_cleaned2.csv\")"
   ]
  },
  {
   "cell_type": "code",
   "execution_count": 64,
   "metadata": {},
   "outputs": [],
   "source": [
    "#réduit les mots à leur forme de base\n",
    "cleaned2[\"text\"]=cleaned[\"text\"].apply(lambda x : ' '.join([token.lemma_ for token in nlp(x)]))"
   ]
  },
  {
   "cell_type": "code",
   "execution_count": 87,
   "metadata": {},
   "outputs": [
    {
     "data": {
      "text/plain": [
       "(5171, 2)"
      ]
     },
     "execution_count": 87,
     "metadata": {},
     "output_type": "execute_result"
    }
   ],
   "source": [
    "cleaned2.shape"
   ]
  },
  {
   "cell_type": "code",
   "execution_count": 88,
   "metadata": {},
   "outputs": [
    {
     "data": {
      "text/plain": [
       "Index(['text', 'label'], dtype='object')"
      ]
     },
     "execution_count": 88,
     "metadata": {},
     "output_type": "execute_result"
    }
   ],
   "source": [
    "cleaned2.columns"
   ]
  },
  {
   "cell_type": "code",
   "execution_count": 89,
   "metadata": {},
   "outputs": [
    {
     "data": {
      "text/html": [
       "<div>\n",
       "<style scoped>\n",
       "    .dataframe tbody tr th:only-of-type {\n",
       "        vertical-align: middle;\n",
       "    }\n",
       "\n",
       "    .dataframe tbody tr th {\n",
       "        vertical-align: top;\n",
       "    }\n",
       "\n",
       "    .dataframe thead th {\n",
       "        text-align: right;\n",
       "    }\n",
       "</style>\n",
       "<table border=\"1\" class=\"dataframe\">\n",
       "  <thead>\n",
       "    <tr style=\"text-align: right;\">\n",
       "      <th></th>\n",
       "      <th>text</th>\n",
       "      <th>label</th>\n",
       "    </tr>\n",
       "  </thead>\n",
       "  <tbody>\n",
       "    <tr>\n",
       "      <th>0</th>\n",
       "      <td>Subject enron methanol meter   follow note gave monday preliminary   flow data provided daren   override pop s daily volume presently reflect daily   activity obtain gas control   change needed asap economics purposes</td>\n",
       "      <td>0</td>\n",
       "    </tr>\n",
       "    <tr>\n",
       "      <th>1</th>\n",
       "      <td>Subject hpl nom january   attached file hplnol xls   hplnol xls</td>\n",
       "      <td>0</td>\n",
       "    </tr>\n",
       "    <tr>\n",
       "      <th>2</th>\n",
       "      <td>Subject neon retreat   ho ho ho wonderful time year neon leaders retreat time   know time year extremely hectic s tough think past holidays life past week december january s d like think minute   calender handed beginning fall semester retreat scheduled weekend january youth ministers conference brad dustin connected week going change date following weekend january comes need think   think agree s important time recharge batteries far spring semester lot trouble difficult away kids etc brad came potential alternative weekend let know prefer   option retreat similar ve past years year heartland country inn www com outside brenham s nice place d bedroom bedroom house s country real relaxing close brenham hour minutes golf shop antique craft stores brenham eat dinner ranch spend time d meet saturday return sunday morning like ve past   option stay houston dinner nice restaurant dessert time visiting recharging homes saturday evening easier trade wouldn t time ll let decide   email preference course available weekend democratic process prevail majority vote rule let hear soon possible preferably end weekend vote doesn t way complaining allowed like tend   great weekend great golf great fishing great shopping makes happy   bobby</td>\n",
       "      <td>0</td>\n",
       "    </tr>\n",
       "    <tr>\n",
       "      <th>3</th>\n",
       "      <td>Subject photoshop windows office cheap main trending   abasements darer prudently fortuitous undergone   lighthearted charm orinoco taster   railroad affluent pornographic cuvier   irvin parkhouse blameworthy chlorophyll   robed diagrammatic fogarty clears bayda   inconveniencing managing represented smartness hashish   academies shareholders unload badness   danielson pure caffein   spaniard chargeable levin</td>\n",
       "      <td>1</td>\n",
       "    </tr>\n",
       "    <tr>\n",
       "      <th>4</th>\n",
       "      <td>Subject indian springs   deal book teco pvr revenue understanding teco   sends check haven t received answer   predermined price associated deal teco lets know   giving continue chase deal need</td>\n",
       "      <td>0</td>\n",
       "    </tr>\n",
       "    <tr>\n",
       "      <th>...</th>\n",
       "      <td>...</td>\n",
       "      <td>...</td>\n",
       "    </tr>\n",
       "    <tr>\n",
       "      <th>5166</th>\n",
       "      <td>Subject ft   transport volumes decreased   contract   thanks   ami   forwarded ami chokshi corp enron     royal b edmondson reliantenergy com   ami chokshi enron com   cc   subject ft   attached file hpl sept xls   hpl sept xls</td>\n",
       "      <td>0</td>\n",
       "    </tr>\n",
       "    <tr>\n",
       "      <th>5167</th>\n",
       "      <td>Subject following noms   hpl t extra mmcf d weekend ll try week   nom stay mmcf d redeliveries       pg e fcv carthage   forwarded bruce mcmills ftworth pefs pec       bruce mcmills     dfarmer enron com briley enron com stacey neuweiler enron com   cc chad w cass gcs cec pec pec william e speckels gcs cec pec pec donna   c spencer gcs cec pec pec michael r cherry easttexas pefs pec pec   darrel f bane easttexas pefs pec pec   subject following noms   nominate mmbtu d eastrans following   deliver pg e fuel cotton valley continue     mmbtu d sale   mmbtu d cartwheel agreement carthage</td>\n",
       "      <td>0</td>\n",
       "    </tr>\n",
       "    <tr>\n",
       "      <th>5168</th>\n",
       "      <td>Subject calpine daily gas nomination   &gt;   &gt;   julie mention earlier hope start unit afternoon   experiencing difficulties informed thanks   ricky archer   fuel supply   louisiana suite   houston texas   direct   fax   calpine daily gas nomination doc   calpine daily gas nomination doc</td>\n",
       "      <td>0</td>\n",
       "    </tr>\n",
       "    <tr>\n",
       "      <th>5169</th>\n",
       "      <td>Subject industrial worksheets august activity   attached worksheets august activity   different worksheets supply market   market worksheet preliminary continuously updated   month   supply worksheets capture buybacks relevant pricing data   worksheets found separate files o   logistics robert lloyd buydeaug xls supply   o logistics ken   sorry delay providing ll data</td>\n",
       "      <td>0</td>\n",
       "    </tr>\n",
       "    <tr>\n",
       "      <th>5170</th>\n",
       "      <td>Subject important online banking alert   dear valued citizensr bank member   concerns safety integrity online banking community issued following warning message   come attention citizensr bank account information needs updated continuing commitment protect account reduce instance fraud website minutes online experience renew records run future problems online service failure confirm records result account suspension   confirmed account records internet banking service interrupted continue normal   confirm bank account records click   note   e mail sent behalf online banking community online banking account charterr message apply ignore message   thank time   citizensr financial group</td>\n",
       "      <td>1</td>\n",
       "    </tr>\n",
       "  </tbody>\n",
       "</table>\n",
       "<p>5171 rows × 2 columns</p>\n",
       "</div>"
      ],
      "text/plain": [
       "                                                                                                                                                                                                                                                                                                                                                                                                                                                                                                                                                                                                                                                                                                                                                                                                                                                                                                                                                                                                                                                                                                                                                                                                                                                                                             text  \\\n",
       "0                                                                                                                                                                                                                                                                                                                                                                                                                                                                                                                                                                                                                                                                                                                                                                                                                                                                                                                                                                                                                                                                       Subject enron methanol meter   follow note gave monday preliminary   flow data provided daren   override pop s daily volume presently reflect daily   activity obtain gas control   change needed asap economics purposes   \n",
       "1                                                                                                                                                                                                                                                                                                                                                                                                                                                                                                                                                                                                                                                                                                                                                                                                                                                                                                                                                                                                                                                                                                                                                                                                                                 Subject hpl nom january   attached file hplnol xls   hplnol xls   \n",
       "2     Subject neon retreat   ho ho ho wonderful time year neon leaders retreat time   know time year extremely hectic s tough think past holidays life past week december january s d like think minute   calender handed beginning fall semester retreat scheduled weekend january youth ministers conference brad dustin connected week going change date following weekend january comes need think   think agree s important time recharge batteries far spring semester lot trouble difficult away kids etc brad came potential alternative weekend let know prefer   option retreat similar ve past years year heartland country inn www com outside brenham s nice place d bedroom bedroom house s country real relaxing close brenham hour minutes golf shop antique craft stores brenham eat dinner ranch spend time d meet saturday return sunday morning like ve past   option stay houston dinner nice restaurant dessert time visiting recharging homes saturday evening easier trade wouldn t time ll let decide   email preference course available weekend democratic process prevail majority vote rule let hear soon possible preferably end weekend vote doesn t way complaining allowed like tend   great weekend great golf great fishing great shopping makes happy   bobby   \n",
       "3                                                                                                                                                                                                                                                                                                                                                                                                                                                                                                                                                                                                                                                                                                                                                                                                                                                                    Subject photoshop windows office cheap main trending   abasements darer prudently fortuitous undergone   lighthearted charm orinoco taster   railroad affluent pornographic cuvier   irvin parkhouse blameworthy chlorophyll   robed diagrammatic fogarty clears bayda   inconveniencing managing represented smartness hashish   academies shareholders unload badness   danielson pure caffein   spaniard chargeable levin   \n",
       "4                                                                                                                                                                                                                                                                                                                                                                                                                                                                                                                                                                                                                                                                                                                                                                                                                                                                                                                                                                                                                                                                                               Subject indian springs   deal book teco pvr revenue understanding teco   sends check haven t received answer   predermined price associated deal teco lets know   giving continue chase deal need   \n",
       "...                                                                                                                                                                                                                                                                                                                                                                                                                                                                                                                                                                                                                                                                                                                                                                                                                                                                                                                                                                                                                                                                                                                                                                                                                                                                                           ...   \n",
       "5166                                                                                                                                                                                                                                                                                                                                                                                                                                                                                                                                                                                                                                                                                                                                                                                                                                                                                                                                                                                                                                                          Subject ft   transport volumes decreased   contract   thanks   ami   forwarded ami chokshi corp enron     royal b edmondson reliantenergy com   ami chokshi enron com   cc   subject ft   attached file hpl sept xls   hpl sept xls   \n",
       "5167                                                                                                                                                                                                                                                                                                                                                                                                                                                                                                                                                                                                                                                                               Subject following noms   hpl t extra mmcf d weekend ll try week   nom stay mmcf d redeliveries       pg e fcv carthage   forwarded bruce mcmills ftworth pefs pec       bruce mcmills     dfarmer enron com briley enron com stacey neuweiler enron com   cc chad w cass gcs cec pec pec william e speckels gcs cec pec pec donna   c spencer gcs cec pec pec michael r cherry easttexas pefs pec pec   darrel f bane easttexas pefs pec pec   subject following noms   nominate mmbtu d eastrans following   deliver pg e fuel cotton valley continue     mmbtu d sale   mmbtu d cartwheel agreement carthage   \n",
       "5168                                                                                                                                                                                                                                                                                                                                                                                                                                                                                                                                                                                                                                                                                                                                                                                                                                                                                                                                                                                               Subject calpine daily gas nomination   >   >   julie mention earlier hope start unit afternoon   experiencing difficulties informed thanks   ricky archer   fuel supply   louisiana suite   houston texas   direct   fax   calpine daily gas nomination doc   calpine daily gas nomination doc   \n",
       "5169                                                                                                                                                                                                                                                                                                                                                                                                                                                                                                                                                                                                                                                                                                                                                                                                                                                                                                           Subject industrial worksheets august activity   attached worksheets august activity   different worksheets supply market   market worksheet preliminary continuously updated   month   supply worksheets capture buybacks relevant pricing data   worksheets found separate files o   logistics robert lloyd buydeaug xls supply   o logistics ken   sorry delay providing ll data   \n",
       "5170                                                                                                                                                                                                                                                                                                                                                                                                                                                                                                                                                                         Subject important online banking alert   dear valued citizensr bank member   concerns safety integrity online banking community issued following warning message   come attention citizensr bank account information needs updated continuing commitment protect account reduce instance fraud website minutes online experience renew records run future problems online service failure confirm records result account suspension   confirmed account records internet banking service interrupted continue normal   confirm bank account records click   note   e mail sent behalf online banking community online banking account charterr message apply ignore message   thank time   citizensr financial group   \n",
       "\n",
       "      label  \n",
       "0         0  \n",
       "1         0  \n",
       "2         0  \n",
       "3         1  \n",
       "4         0  \n",
       "...     ...  \n",
       "5166      0  \n",
       "5167      0  \n",
       "5168      0  \n",
       "5169      0  \n",
       "5170      1  \n",
       "\n",
       "[5171 rows x 2 columns]"
      ]
     },
     "execution_count": 89,
     "metadata": {},
     "output_type": "execute_result"
    }
   ],
   "source": [
    "cleaned2"
   ]
  },
  {
   "cell_type": "code",
   "execution_count": 90,
   "metadata": {},
   "outputs": [
    {
     "data": {
      "text/plain": [
       "label\n",
       "0    3672\n",
       "1    1499\n",
       "Name: count, dtype: int64"
      ]
     },
     "execution_count": 90,
     "metadata": {},
     "output_type": "execute_result"
    }
   ],
   "source": [
    "cleaned2[\"label\"].value_counts()"
   ]
  },
  {
   "cell_type": "code",
   "execution_count": 91,
   "metadata": {},
   "outputs": [],
   "source": [
    "from sklearn.model_selection import train_test_split\n",
    "from sklearn.preprocessing import LabelEncoder\n",
    "from tensorflow.keras.preprocessing.text import Tokenizer\n",
    "from tensorflow.keras.preprocessing.sequence import pad_sequences\n",
    "from tensorflow.keras.models import Sequential\n",
    "from tensorflow.keras.layers import Embedding, LSTM, Dense, Dropout\n",
    "from tensorflow.keras.utils import to_categorical"
   ]
  },
  {
   "cell_type": "code",
   "execution_count": 92,
   "metadata": {},
   "outputs": [],
   "source": [
    "X = cleaned2['text'].values\n",
    "y = cleaned2['label'].values\n",
    "\n",
    "# Fractionner les données en ensembles d'entraînement et de test\n",
    "X_train, X_test, y_train, y_test = train_test_split(X, y, test_size=0.2, random_state=42)"
   ]
  },
  {
   "cell_type": "code",
   "execution_count": 93,
   "metadata": {},
   "outputs": [],
   "source": [
    "# Paramètres pour la tokenisation\n",
    "vocab_size = 10000  # taille du vocabulaire\n",
    "max_length = 100    # longueur maximale des séquences\n",
    "embedding_dim = 100 # dimension des embeddings\n",
    "\n",
    "# Tokenisation du texte\n",
    "tokenizer = Tokenizer(num_words=vocab_size, oov_token=\"<OOV>\")\n",
    "tokenizer.fit_on_texts(X_train)\n",
    "X_train_sequences = tokenizer.texts_to_sequences(X_train)\n",
    "X_test_sequences = tokenizer.texts_to_sequences(X_test)\n",
    "\n",
    "# Padding des séquences pour avoir une longueur uniforme\n",
    "X_train_padded = pad_sequences(X_train_sequences, maxlen=max_length, padding='post', truncating='post')\n",
    "X_test_padded = pad_sequences(X_test_sequences, maxlen=max_length, padding='post', truncating='post')"
   ]
  },
  {
   "cell_type": "code",
   "execution_count": 94,
   "metadata": {},
   "outputs": [
    {
     "name": "stderr",
     "output_type": "stream",
     "text": [
      "c:\\Users\\hp\\Desktop\\EmailSpamDetector\\.nlpenv\\Lib\\site-packages\\keras\\src\\layers\\core\\embedding.py:90: UserWarning: Argument `input_length` is deprecated. Just remove it.\n",
      "  warnings.warn(\n"
     ]
    },
    {
     "data": {
      "text/html": [
       "<pre style=\"white-space:pre;overflow-x:auto;line-height:normal;font-family:Menlo,'DejaVu Sans Mono',consolas,'Courier New',monospace\"><span style=\"font-weight: bold\">Model: \"sequential_1\"</span>\n",
       "</pre>\n"
      ],
      "text/plain": [
       "\u001b[1mModel: \"sequential_1\"\u001b[0m\n"
      ]
     },
     "metadata": {},
     "output_type": "display_data"
    },
    {
     "data": {
      "text/html": [
       "<pre style=\"white-space:pre;overflow-x:auto;line-height:normal;font-family:Menlo,'DejaVu Sans Mono',consolas,'Courier New',monospace\">┏━━━━━━━━━━━━━━━━━━━━━━━━━━━━━━━━━┳━━━━━━━━━━━━━━━━━━━━━━━━┳━━━━━━━━━━━━━━━┓\n",
       "┃<span style=\"font-weight: bold\"> Layer (type)                    </span>┃<span style=\"font-weight: bold\"> Output Shape           </span>┃<span style=\"font-weight: bold\">       Param # </span>┃\n",
       "┡━━━━━━━━━━━━━━━━━━━━━━━━━━━━━━━━━╇━━━━━━━━━━━━━━━━━━━━━━━━╇━━━━━━━━━━━━━━━┩\n",
       "│ embedding_1 (<span style=\"color: #0087ff; text-decoration-color: #0087ff\">Embedding</span>)         │ ?                      │   <span style=\"color: #00af00; text-decoration-color: #00af00\">0</span> (unbuilt) │\n",
       "├─────────────────────────────────┼────────────────────────┼───────────────┤\n",
       "│ lstm_2 (<span style=\"color: #0087ff; text-decoration-color: #0087ff\">LSTM</span>)                   │ ?                      │   <span style=\"color: #00af00; text-decoration-color: #00af00\">0</span> (unbuilt) │\n",
       "├─────────────────────────────────┼────────────────────────┼───────────────┤\n",
       "│ dropout_2 (<span style=\"color: #0087ff; text-decoration-color: #0087ff\">Dropout</span>)             │ ?                      │             <span style=\"color: #00af00; text-decoration-color: #00af00\">0</span> │\n",
       "├─────────────────────────────────┼────────────────────────┼───────────────┤\n",
       "│ lstm_3 (<span style=\"color: #0087ff; text-decoration-color: #0087ff\">LSTM</span>)                   │ ?                      │   <span style=\"color: #00af00; text-decoration-color: #00af00\">0</span> (unbuilt) │\n",
       "├─────────────────────────────────┼────────────────────────┼───────────────┤\n",
       "│ dropout_3 (<span style=\"color: #0087ff; text-decoration-color: #0087ff\">Dropout</span>)             │ ?                      │             <span style=\"color: #00af00; text-decoration-color: #00af00\">0</span> │\n",
       "├─────────────────────────────────┼────────────────────────┼───────────────┤\n",
       "│ dense_2 (<span style=\"color: #0087ff; text-decoration-color: #0087ff\">Dense</span>)                 │ ?                      │   <span style=\"color: #00af00; text-decoration-color: #00af00\">0</span> (unbuilt) │\n",
       "├─────────────────────────────────┼────────────────────────┼───────────────┤\n",
       "│ dense_3 (<span style=\"color: #0087ff; text-decoration-color: #0087ff\">Dense</span>)                 │ ?                      │   <span style=\"color: #00af00; text-decoration-color: #00af00\">0</span> (unbuilt) │\n",
       "└─────────────────────────────────┴────────────────────────┴───────────────┘\n",
       "</pre>\n"
      ],
      "text/plain": [
       "┏━━━━━━━━━━━━━━━━━━━━━━━━━━━━━━━━━┳━━━━━━━━━━━━━━━━━━━━━━━━┳━━━━━━━━━━━━━━━┓\n",
       "┃\u001b[1m \u001b[0m\u001b[1mLayer (type)                   \u001b[0m\u001b[1m \u001b[0m┃\u001b[1m \u001b[0m\u001b[1mOutput Shape          \u001b[0m\u001b[1m \u001b[0m┃\u001b[1m \u001b[0m\u001b[1m      Param #\u001b[0m\u001b[1m \u001b[0m┃\n",
       "┡━━━━━━━━━━━━━━━━━━━━━━━━━━━━━━━━━╇━━━━━━━━━━━━━━━━━━━━━━━━╇━━━━━━━━━━━━━━━┩\n",
       "│ embedding_1 (\u001b[38;5;33mEmbedding\u001b[0m)         │ ?                      │   \u001b[38;5;34m0\u001b[0m (unbuilt) │\n",
       "├─────────────────────────────────┼────────────────────────┼───────────────┤\n",
       "│ lstm_2 (\u001b[38;5;33mLSTM\u001b[0m)                   │ ?                      │   \u001b[38;5;34m0\u001b[0m (unbuilt) │\n",
       "├─────────────────────────────────┼────────────────────────┼───────────────┤\n",
       "│ dropout_2 (\u001b[38;5;33mDropout\u001b[0m)             │ ?                      │             \u001b[38;5;34m0\u001b[0m │\n",
       "├─────────────────────────────────┼────────────────────────┼───────────────┤\n",
       "│ lstm_3 (\u001b[38;5;33mLSTM\u001b[0m)                   │ ?                      │   \u001b[38;5;34m0\u001b[0m (unbuilt) │\n",
       "├─────────────────────────────────┼────────────────────────┼───────────────┤\n",
       "│ dropout_3 (\u001b[38;5;33mDropout\u001b[0m)             │ ?                      │             \u001b[38;5;34m0\u001b[0m │\n",
       "├─────────────────────────────────┼────────────────────────┼───────────────┤\n",
       "│ dense_2 (\u001b[38;5;33mDense\u001b[0m)                 │ ?                      │   \u001b[38;5;34m0\u001b[0m (unbuilt) │\n",
       "├─────────────────────────────────┼────────────────────────┼───────────────┤\n",
       "│ dense_3 (\u001b[38;5;33mDense\u001b[0m)                 │ ?                      │   \u001b[38;5;34m0\u001b[0m (unbuilt) │\n",
       "└─────────────────────────────────┴────────────────────────┴───────────────┘\n"
      ]
     },
     "metadata": {},
     "output_type": "display_data"
    },
    {
     "data": {
      "text/html": [
       "<pre style=\"white-space:pre;overflow-x:auto;line-height:normal;font-family:Menlo,'DejaVu Sans Mono',consolas,'Courier New',monospace\"><span style=\"font-weight: bold\"> Total params: </span><span style=\"color: #00af00; text-decoration-color: #00af00\">0</span> (0.00 B)\n",
       "</pre>\n"
      ],
      "text/plain": [
       "\u001b[1m Total params: \u001b[0m\u001b[38;5;34m0\u001b[0m (0.00 B)\n"
      ]
     },
     "metadata": {},
     "output_type": "display_data"
    },
    {
     "data": {
      "text/html": [
       "<pre style=\"white-space:pre;overflow-x:auto;line-height:normal;font-family:Menlo,'DejaVu Sans Mono',consolas,'Courier New',monospace\"><span style=\"font-weight: bold\"> Trainable params: </span><span style=\"color: #00af00; text-decoration-color: #00af00\">0</span> (0.00 B)\n",
       "</pre>\n"
      ],
      "text/plain": [
       "\u001b[1m Trainable params: \u001b[0m\u001b[38;5;34m0\u001b[0m (0.00 B)\n"
      ]
     },
     "metadata": {},
     "output_type": "display_data"
    },
    {
     "data": {
      "text/html": [
       "<pre style=\"white-space:pre;overflow-x:auto;line-height:normal;font-family:Menlo,'DejaVu Sans Mono',consolas,'Courier New',monospace\"><span style=\"font-weight: bold\"> Non-trainable params: </span><span style=\"color: #00af00; text-decoration-color: #00af00\">0</span> (0.00 B)\n",
       "</pre>\n"
      ],
      "text/plain": [
       "\u001b[1m Non-trainable params: \u001b[0m\u001b[38;5;34m0\u001b[0m (0.00 B)\n"
      ]
     },
     "metadata": {},
     "output_type": "display_data"
    }
   ],
   "source": [
    "model = Sequential([\n",
    "    Embedding(input_dim=vocab_size, output_dim=embedding_dim, input_length=max_length),\n",
    "    LSTM(128, return_sequences=True),\n",
    "    Dropout(0.2),\n",
    "    LSTM(64),\n",
    "    Dropout(0.2),\n",
    "    Dense(32, activation='relu'),\n",
    "    Dense(1, activation='sigmoid')  # Utiliser une sigmoid pour une sortie binaire\n",
    "])\n",
    "\n",
    "model.compile(loss='binary_crossentropy', optimizer='adam', metrics=['accuracy'])\n",
    "model.summary()"
   ]
  },
  {
   "cell_type": "code",
   "execution_count": 96,
   "metadata": {},
   "outputs": [
    {
     "name": "stdout",
     "output_type": "stream",
     "text": [
      "Epoch 1/20\n",
      "\u001b[1m65/65\u001b[0m \u001b[32m━━━━━━━━━━━━━━━━━━━━\u001b[0m\u001b[37m\u001b[0m \u001b[1m9s\u001b[0m 135ms/step - accuracy: 0.8174 - loss: 0.4822 - val_accuracy: 0.8454 - val_loss: 0.4302\n",
      "Epoch 2/20\n",
      "\u001b[1m65/65\u001b[0m \u001b[32m━━━━━━━━━━━━━━━━━━━━\u001b[0m\u001b[37m\u001b[0m \u001b[1m9s\u001b[0m 134ms/step - accuracy: 0.8393 - loss: 0.4323 - val_accuracy: 0.8841 - val_loss: 0.3629\n",
      "Epoch 3/20\n",
      "\u001b[1m65/65\u001b[0m \u001b[32m━━━━━━━━━━━━━━━━━━━━\u001b[0m\u001b[37m\u001b[0m \u001b[1m8s\u001b[0m 128ms/step - accuracy: 0.8917 - loss: 0.3523 - val_accuracy: 0.8995 - val_loss: 0.3206\n",
      "Epoch 4/20\n",
      "\u001b[1m65/65\u001b[0m \u001b[32m━━━━━━━━━━━━━━━━━━━━\u001b[0m\u001b[37m\u001b[0m \u001b[1m8s\u001b[0m 127ms/step - accuracy: 0.9262 - loss: 0.2594 - val_accuracy: 0.8783 - val_loss: 0.3723\n",
      "Epoch 5/20\n",
      "\u001b[1m65/65\u001b[0m \u001b[32m━━━━━━━━━━━━━━━━━━━━\u001b[0m\u001b[37m\u001b[0m \u001b[1m8s\u001b[0m 128ms/step - accuracy: 0.8664 - loss: 0.3918 - val_accuracy: 0.8783 - val_loss: 0.3633\n",
      "Epoch 6/20\n",
      "\u001b[1m65/65\u001b[0m \u001b[32m━━━━━━━━━━━━━━━━━━━━\u001b[0m\u001b[37m\u001b[0m \u001b[1m8s\u001b[0m 129ms/step - accuracy: 0.8646 - loss: 0.3838 - val_accuracy: 0.8928 - val_loss: 0.3220\n",
      "Epoch 7/20\n",
      "\u001b[1m65/65\u001b[0m \u001b[32m━━━━━━━━━━━━━━━━━━━━\u001b[0m\u001b[37m\u001b[0m \u001b[1m8s\u001b[0m 128ms/step - accuracy: 0.9042 - loss: 0.2961 - val_accuracy: 0.9314 - val_loss: 0.2153\n",
      "Epoch 8/20\n",
      "\u001b[1m65/65\u001b[0m \u001b[32m━━━━━━━━━━━━━━━━━━━━\u001b[0m\u001b[37m\u001b[0m \u001b[1m8s\u001b[0m 127ms/step - accuracy: 0.9528 - loss: 0.1829 - val_accuracy: 0.9411 - val_loss: 0.1761\n",
      "Epoch 9/20\n",
      "\u001b[1m65/65\u001b[0m \u001b[32m━━━━━━━━━━━━━━━━━━━━\u001b[0m\u001b[37m\u001b[0m \u001b[1m8s\u001b[0m 127ms/step - accuracy: 0.9201 - loss: 0.2456 - val_accuracy: 0.9391 - val_loss: 0.2219\n",
      "Epoch 10/20\n",
      "\u001b[1m65/65\u001b[0m \u001b[32m━━━━━━━━━━━━━━━━━━━━\u001b[0m\u001b[37m\u001b[0m \u001b[1m8s\u001b[0m 128ms/step - accuracy: 0.9515 - loss: 0.1863 - val_accuracy: 0.9401 - val_loss: 0.2082\n",
      "Epoch 11/20\n",
      "\u001b[1m65/65\u001b[0m \u001b[32m━━━━━━━━━━━━━━━━━━━━\u001b[0m\u001b[37m\u001b[0m \u001b[1m8s\u001b[0m 127ms/step - accuracy: 0.9573 - loss: 0.1561 - val_accuracy: 0.9440 - val_loss: 0.1760\n",
      "Epoch 12/20\n",
      "\u001b[1m65/65\u001b[0m \u001b[32m━━━━━━━━━━━━━━━━━━━━\u001b[0m\u001b[37m\u001b[0m \u001b[1m8s\u001b[0m 127ms/step - accuracy: 0.9484 - loss: 0.1864 - val_accuracy: 0.9246 - val_loss: 0.2525\n",
      "Epoch 13/20\n",
      "\u001b[1m65/65\u001b[0m \u001b[32m━━━━━━━━━━━━━━━━━━━━\u001b[0m\u001b[37m\u001b[0m \u001b[1m8s\u001b[0m 128ms/step - accuracy: 0.9286 - loss: 0.2034 - val_accuracy: 0.9681 - val_loss: 0.1428\n",
      "Epoch 14/20\n",
      "\u001b[1m65/65\u001b[0m \u001b[32m━━━━━━━━━━━━━━━━━━━━\u001b[0m\u001b[37m\u001b[0m \u001b[1m8s\u001b[0m 129ms/step - accuracy: 0.9675 - loss: 0.1316 - val_accuracy: 0.9652 - val_loss: 0.1342\n",
      "Epoch 15/20\n",
      "\u001b[1m65/65\u001b[0m \u001b[32m━━━━━━━━━━━━━━━━━━━━\u001b[0m\u001b[37m\u001b[0m \u001b[1m8s\u001b[0m 129ms/step - accuracy: 0.9788 - loss: 0.0974 - val_accuracy: 0.9652 - val_loss: 0.1479\n",
      "Epoch 16/20\n",
      "\u001b[1m65/65\u001b[0m \u001b[32m━━━━━━━━━━━━━━━━━━━━\u001b[0m\u001b[37m\u001b[0m \u001b[1m8s\u001b[0m 126ms/step - accuracy: 0.9792 - loss: 0.1000 - val_accuracy: 0.9604 - val_loss: 0.1658\n",
      "Epoch 17/20\n",
      "\u001b[1m65/65\u001b[0m \u001b[32m━━━━━━━━━━━━━━━━━━━━\u001b[0m\u001b[37m\u001b[0m \u001b[1m8s\u001b[0m 128ms/step - accuracy: 0.9740 - loss: 0.0973 - val_accuracy: 0.9604 - val_loss: 0.1498\n",
      "Epoch 18/20\n",
      "\u001b[1m65/65\u001b[0m \u001b[32m━━━━━━━━━━━━━━━━━━━━\u001b[0m\u001b[37m\u001b[0m \u001b[1m8s\u001b[0m 126ms/step - accuracy: 0.9765 - loss: 0.0931 - val_accuracy: 0.9478 - val_loss: 0.1321\n",
      "Epoch 19/20\n",
      "\u001b[1m65/65\u001b[0m \u001b[32m━━━━━━━━━━━━━━━━━━━━\u001b[0m\u001b[37m\u001b[0m \u001b[1m8s\u001b[0m 126ms/step - accuracy: 0.9687 - loss: 0.0879 - val_accuracy: 0.9623 - val_loss: 0.1202\n",
      "Epoch 20/20\n",
      "\u001b[1m65/65\u001b[0m \u001b[32m━━━━━━━━━━━━━━━━━━━━\u001b[0m\u001b[37m\u001b[0m \u001b[1m8s\u001b[0m 125ms/step - accuracy: 0.9762 - loss: 0.0703 - val_accuracy: 0.9643 - val_loss: 0.1205\n"
     ]
    }
   ],
   "source": [
    "history = model.fit(X_train_padded, y_train, epochs=20, batch_size=64, validation_data=(X_test_padded, y_test))"
   ]
  },
  {
   "cell_type": "code",
   "execution_count": 97,
   "metadata": {},
   "outputs": [
    {
     "name": "stdout",
     "output_type": "stream",
     "text": [
      "\u001b[1m33/33\u001b[0m \u001b[32m━━━━━━━━━━━━━━━━━━━━\u001b[0m\u001b[37m\u001b[0m \u001b[1m1s\u001b[0m 28ms/step - accuracy: 0.9686 - loss: 0.1182\n",
      "Accuracy: 96.43%\n"
     ]
    }
   ],
   "source": [
    "loss, accuracy = model.evaluate(X_test_padded, y_test)\n",
    "print(f\"Accuracy: {accuracy*100:.2f}%\")"
   ]
  },
  {
   "cell_type": "code",
   "execution_count": 98,
   "metadata": {},
   "outputs": [
    {
     "name": "stdout",
     "output_type": "stream",
     "text": [
      "\u001b[1m33/33\u001b[0m \u001b[32m━━━━━━━━━━━━━━━━━━━━\u001b[0m\u001b[37m\u001b[0m \u001b[1m2s\u001b[0m 39ms/step\n",
      "Accuracy: 0.9642512077294686\n",
      "F1 Score pour chaque classe: [0.97488119 0.93802345]\n",
      "\n",
      "Rapport de classification:\n",
      "               precision    recall  f1-score   support\n",
      "\n",
      "    Not Spam       0.98      0.97      0.97       742\n",
      "        Spam       0.92      0.96      0.94       293\n",
      "\n",
      "    accuracy                           0.96      1035\n",
      "   macro avg       0.95      0.96      0.96      1035\n",
      "weighted avg       0.96      0.96      0.96      1035\n",
      "\n"
     ]
    }
   ],
   "source": [
    "from sklearn.metrics import accuracy_score, f1_score, classification_report\n",
    "\n",
    "prediction = (model.predict(X_test_padded) > 0.5).astype(\"int32\")\n",
    "\n",
    "\n",
    "accuracy = accuracy_score(y_test, prediction)\n",
    "print(\"Accuracy:\", accuracy)\n",
    "\n",
    "\n",
    "f1_scores = f1_score(y_test, prediction, average=None)\n",
    "print(\"F1 Score pour chaque classe:\", f1_scores)\n",
    "\n",
    "print(\"\\nRapport de classification:\\n\", classification_report(y_test, prediction, target_names=[\"Not Spam\", \"Spam\"]))\n"
   ]
  },
  {
   "cell_type": "code",
   "execution_count": 108,
   "metadata": {},
   "outputs": [
    {
     "data": {
      "image/png": "[encoded data removed]",
      "text/plain": [
       "<Figure size 1200x600 with 1 Axes>"
      ]
     },
     "metadata": {},
     "output_type": "display_data"
    }
   ],
   "source": [
    "plt.figure(figsize=(12, 6))\n",
    "plt.plot(history.history['loss'], label='Loss (Entraînement)')\n",
    "plt.plot(history.history['val_loss'], label='Loss (Validation)')\n",
    "plt.title(\"Courbes d'apprentissage\")\n",
    "plt.xlabel('Époque')\n",
    "plt.ylabel('Loss (Erreur)')\n",
    "plt.legend()\n",
    "plt.show()"
   ]
  },
  {
   "cell_type": "markdown",
   "metadata": {},
   "source": [
    "Réduction de la perte (loss) : On voit une diminution régulière de la perte d'entraînement et de validation au fil des époques, ce qui indique que le modèle apprend à mieux minimiser l'erreur.\n",
    "\n",
    "Absence de surapprentissage :\n",
    "\n",
    "Les courbes de perte d'entraînement et de validation diminuent de manière similaire, sans que la courbe de validation commence à augmenter ou à stagner alors que la courbe d'entraînement continue de baisser.\n",
    "Ceci indique que le modèle ne présente pas de surapprentissage évident, car la performance sur les données de validation reste stable et suit la tendance de la courbe d'entraînement.\n",
    "Convergence : Vers la fin des époques, les courbes tendent à se stabiliser autour de valeurs basses (environ 0.10 à 0.15). Cela peut indiquer que le modèle est proche de sa convergence, c’est-à-dire qu’il a atteint un point où il apprend peu de nouvelles informations supplémentaires à chaque époque."
   ]
  },
  {
   "cell_type": "code",
   "execution_count": null,
   "metadata": {},
   "outputs": [],
   "source": []
  }
 ],
 "metadata": {
  "kernelspec": {
   "display_name": ".nlpenv",
   "language": "python",
   "name": "python3"
  },
  "language_info": {
   "codemirror_mode": {
    "name": "ipython",
    "version": 3
   },
   "file_extension": ".py",
   "mimetype": "text/x-python",
   "name": "python",
   "nbconvert_exporter": "python",
   "pygments_lexer": "ipython3",
   "version": "3.11.0"
  }
 },
 "nbformat": 4,
 "nbformat_minor": 2
}
